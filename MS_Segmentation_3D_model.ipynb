{
  "nbformat": 4,
  "nbformat_minor": 0,
  "metadata": {
    "colab": {
      "name": "MS_Segmentation_3D_model.ipynb",
      "provenance": [],
      "collapsed_sections": [],
      "machine_shape": "hm"
    },
    "kernelspec": {
      "name": "python3",
      "display_name": "Python 3"
    },
    "accelerator": "GPU"
  },
  "cells": [
    {
      "cell_type": "code",
      "metadata": {
        "id": "TCIKjffpJnY5",
        "colab_type": "code",
        "outputId": "a2606525-235c-41a3-abc1-1a530cb6fb59",
        "colab": {
          "base_uri": "https://localhost:8080/",
          "height": 80
        }
      },
      "source": [
        "import tensorflow as tf\n",
        "import numpy as np\n",
        "import os\n",
        "import nibabel as nib\n",
        "import cv2 as cv\n",
        "import matplotlib.pyplot as plt\n",
        "    \n",
        "def modality(Path,index):\n",
        "    X = []\n",
        "    X_per_paitent = []\n",
        "    p=os.listdir(Path) \n",
        "    recs_in=[]\n",
        "    counter=0\n",
        "    counter_2=0\n",
        "    #recs_segmented=[]\n",
        "    for i in p[:14]:                                                                      # Loading all the folders in the given path\n",
        "        q = os.listdir(os.path.join(Path,i))     \n",
        "\n",
        "        x = nib.load(os.path.join(Path,i,q[index]))         \n",
        "        f = x.get_fdata()\n",
        "        f = np.asarray(f,'float32')\n",
        "        \n",
        "        ct=0\n",
        "        recs_in.append(f.shape[2])\n",
        "        #print(counter_2)\n",
        "        counter_2+=1\n",
        "        for j in range(f.shape[2]):                                                        # Processing the MRI Scan in the axial view\n",
        "            _slice = cv.resize(f[:,:,j],(256,256),interpolation=cv.INTER_NEAREST)             # Resizing the slice to the shape(256,256)\n",
        "            if(index not in [3,4,5,6,7,8,9] and np.sum(_slice) != 0 ): \n",
        "                if index==1:\n",
        "                  ct+=1 \n",
        "                  counter+=1 \n",
        "                 # print(counter)                                      # To check whether the slice is null or not\n",
        "              #  _slice = _slice / (np.max(_slice) + 0.00001)                               # Normalization\n",
        "                  _slice = (_slice - np.mean(_slice) + 0.00001) / (np.std(_slice) + 0.00001)\n",
        "                else:\n",
        "                                              # To check whether the slice is null or not\n",
        "              #  _slice = _slice / (np.max(_slice) + 0.00001)                               # Normalization\n",
        "                  _slice = (_slice - np.mean(_slice) + 0.00001) / (np.std(_slice) + 0.00001) # Standardization\n",
        "            elif(index in [3,4,5,6,7,8,9]):   # if index = 3, Then it is output mask and we don't normalize or standardize it \n",
        "                _slice = np.array(_slice)\n",
        "                _slice[_slice > 0] = 1.0\n",
        "                _slice[_slice < 0] = 0.0\n",
        "            _slice = _slice.T\n",
        "            _slice = _slice[:,:,np.newaxis]\n",
        "            X.append(_slice)\n",
        "       \n",
        "   # X=np.array(X,dtype='float32')\n",
        "    return X,recs_in"
      ],
      "execution_count": 0,
      "outputs": [
        {
          "output_type": "display_data",
          "data": {
            "text/html": [
              "<p style=\"color: red;\">\n",
              "The default version of TensorFlow in Colab will switch to TensorFlow 2.x on the 27th of March, 2020.<br>\n",
              "We recommend you <a href=\"https://www.tensorflow.org/guide/migrate\" target=\"_blank\">upgrade</a> now\n",
              "or ensure your notebook will continue to use TensorFlow 1.x via the <code>%tensorflow_version 1.x</code> magic:\n",
              "<a href=\"https://colab.research.google.com/notebooks/tensorflow_version.ipynb\" target=\"_blank\">more info</a>.</p>\n"
            ],
            "text/plain": [
              "<IPython.core.display.HTML object>"
            ]
          },
          "metadata": {
            "tags": []
          }
        }
      ]
    },
    {
      "cell_type": "code",
      "metadata": {
        "id": "3CzV3b0Faeiq",
        "colab_type": "code",
        "colab": {}
      },
      "source": [
        "def remove_null_samples(X_Dp, X_Flair, X_Gado, X_T1, X_T2, Y_Manual,recs): \n",
        "     \n",
        "    X=[]\n",
        "    Y=[]\n",
        "    counter=0\n",
        "    counter_2=0\n",
        "    mult=0;\n",
        "    count=0\n",
        "    rec=[]\n",
        "    keep_count=[]\n",
        "    keep=[]\n",
        "    print(recs)\n",
        "    r=np.array(recs,dtype='float32')\n",
        "    print(np.sum(r))\n",
        "    print(len(X_Dp))\n",
        "\n",
        "    for i in range(len(X_Dp)):  \n",
        "        if counter==(recs[mult]):\n",
        "          print(counter)\n",
        "          mult+=1\n",
        "          rec.append(count)\n",
        "          counter=0\n",
        "          print(counter_2)\n",
        "          count=0\n",
        "        final_slice = np.concatenate((X_Dp[i],X_Flair[i],X_Gado[i],X_T1[i],X_T2[i]), axis = -1)\n",
        "        if(np.sum(final_slice) != 0):        # checking whether the final slice is empty or not             \n",
        "            X.append(final_slice)\n",
        "            Y.append(Y_Manual[i])\n",
        "            \n",
        "            count+=1\n",
        "        counter+=1\n",
        "        counter_2+=1\n",
        "\n",
        "    \n",
        "    rec.append(count)\n",
        "#   Converting the list into array  \n",
        "    X=np.array(X,dtype='float32')\n",
        "    Y=np.array(Y,dtype='float32')\n",
        "    rec=np.array(rec,dtype='float32')\n",
        "    \n",
        "    return X,Y,rec\n"
      ],
      "execution_count": 0,
      "outputs": []
    },
    {
      "cell_type": "code",
      "metadata": {
        "id": "MDfO2AeSnQvY",
        "colab_type": "code",
        "colab": {}
      },
      "source": [
        "def store_data(X,Y,rec):\n",
        "    np.save(\"drive/My Drive/MS_data/X_union_new.npy\",X)\n",
        "    np.save(\"drive/My Drive/MS_data/Y_union_new.npy\",Y)\n",
        "    np.save(\"drive/My Drive/MS_data/union_new_rec_after_removal.npy\",rec)\n",
        "\n"
      ],
      "execution_count": 0,
      "outputs": []
    },
    {
      "cell_type": "code",
      "metadata": {
        "id": "syzATPlboPcT",
        "colab_type": "code",
        "colab": {}
      },
      "source": [
        "import numpy as np\n",
        "import matplotlib.pyplot as plt\n",
        "import tensorflow as tf\n",
        "from sklearn.model_selection import train_test_split\n",
        "\n",
        "#import keras\n",
        "from tensorflow.keras.models import Model, load_model\n",
        "from tensorflow.keras.layers import Input ,BatchNormalization , Activation \n",
        "from tensorflow.keras.layers import Conv2D, UpSampling2D\n",
        "from tensorflow.keras.layers import MaxPooling2D\n",
        "from tensorflow.keras.layers import concatenate\n",
        "from tensorflow.keras.callbacks import EarlyStopping, ModelCheckpoint\n",
        "from tensorflow.keras.optimizers import Adam\n",
        "from sklearn.model_selection import train_test_split\n",
        "\n",
        "\n",
        "#import dataPrepare as process\n",
        "# Loading all the 5 different modalities of each MRI Scan of all 15 different patients and 1st rater Manual SegmentationX_Dp      =   modality(Path,0)\n",
        "#import Modified_UNet \n",
        "#import plots\n",
        "#import Metrics\n",
        "\n",
        "# Setting the path\n",
        "Path='drive/My Drive/Pre-processed'\n",
        "\n",
        "\n",
        "\n",
        "# Loading all the 5 different modalities of each MRI Scan of all 15 different patients and 1st rater Manual Segmentation\n",
        "X_Dp_t,rec      =   modality(Path,0)\n",
        "X_Flair_t,rec_1   =   modality(Path,1)\n",
        "X_Gado_t,rec    =   modality(Path,2)\n",
        "X_T1_t,rec      =   modality(Path,10)\n",
        "X_T2_t,rec      =   modality(Path,11)\n",
        "rec=np.array(rec_1,dtype='float32')\n",
        "#np.save(\"drive/My Drive/MS_data/union_new_rec_before_removal.npy\",rec)"
      ],
      "execution_count": 0,
      "outputs": []
    },
    {
      "cell_type": "code",
      "metadata": {
        "id": "btiHZz0keRCr",
        "colab_type": "code",
        "outputId": "76906d09-3a80-4c39-cce4-5cf2660dd1da",
        "colab": {
          "base_uri": "https://localhost:8080/",
          "height": 34
        }
      },
      "source": [
        "print(rec)"
      ],
      "execution_count": 0,
      "outputs": [
        {
          "output_type": "stream",
          "text": [
            "[256. 256. 512. 512. 256. 512. 512. 256. 512. 256. 336. 336. 336. 336.]\n"
          ],
          "name": "stdout"
        }
      ]
    },
    {
      "cell_type": "code",
      "metadata": {
        "id": "srdK34TwP1ms",
        "colab_type": "code",
        "outputId": "28cbf43d-70ce-4e72-cc41-dc1b877cf64e",
        "colab": {
          "base_uri": "https://localhost:8080/",
          "height": 122
        }
      },
      "source": [
        "from google.colab import drive\n",
        "drive.mount('/content/drive')"
      ],
      "execution_count": 0,
      "outputs": [
        {
          "output_type": "stream",
          "text": [
            "Go to this URL in a browser: https://accounts.google.com/o/oauth2/auth?client_id=947318989803-6bn6qk8qdgf4n4g3pfee6491hc0brc4i.apps.googleusercontent.com&redirect_uri=urn%3aietf%3awg%3aoauth%3a2.0%3aoob&response_type=code&scope=email%20https%3a%2f%2fwww.googleapis.com%2fauth%2fdocs.test%20https%3a%2f%2fwww.googleapis.com%2fauth%2fdrive%20https%3a%2f%2fwww.googleapis.com%2fauth%2fdrive.photos.readonly%20https%3a%2f%2fwww.googleapis.com%2fauth%2fpeopleapi.readonly\n",
            "\n",
            "Enter your authorization code:\n",
            "··········\n",
            "Mounted at /content/drive\n"
          ],
          "name": "stdout"
        }
      ]
    },
    {
      "cell_type": "code",
      "metadata": {
        "id": "RX79MewjodRq",
        "colab_type": "code",
        "colab": {}
      },
      "source": [
        "import numpy as np\n",
        "import matplotlib.pyplot as plt\n",
        "import tensorflow as tf\n",
        "from sklearn.model_selection import train_test_split\n",
        "\n",
        "#import keras\n",
        "from tensorflow.keras.models import Model, load_model\n",
        "from tensorflow.keras.layers import Input ,BatchNormalization , Activation \n",
        "from tensorflow.keras.layers import Conv2D, UpSampling2D\n",
        "from tensorflow.keras.layers import MaxPooling2D\n",
        "from tensorflow.keras.layers import concatenate\n",
        "from tensorflow.keras.callbacks import EarlyStopping, ModelCheckpoint\n",
        "from tensorflow.keras.optimizers import Adam\n",
        "from sklearn.model_selection import train_test_split\n",
        "\n",
        "\n",
        "#import dataPrepare as process\n",
        "# Loading all the 5 different modalities of each MRI Scan of all 15 different patients and 1st rater Manual SegmentationX_Dp      =   modality(Path,0)\n",
        "#import Modified_UNet \n",
        "#import plots\n",
        "#import Metrics\n",
        "\n",
        "# Setting the path\n",
        "Path='drive/My Drive/Pre-processed'\n",
        "Y_1,rec  =   modality(Path,3)\n",
        "Y_2,rec  =   modality(Path,4)\n",
        "Y_3,rec  =   modality(Path,5)\n",
        "Y_4,rec  =   modality(Path,6)\n",
        "Y_5,rec  =   modality(Path,7)\n",
        "Y_6,rec  =   modality(Path,8)\n",
        "Y_7,rec  =   modality(Path,9)\n"
      ],
      "execution_count": 0,
      "outputs": []
    },
    {
      "cell_type": "code",
      "metadata": {
        "id": "SUpSEmO_oFzF",
        "colab_type": "code",
        "colab": {}
      },
      "source": [
        "import math\n",
        "def union(Y_1,Y_2,Y_3,Y_4,Y_5,Y_6,Y_7):\n",
        "  Y=[]\n",
        "  sum2=[]\n",
        "  flag=0\n",
        "  #y=np.array()\n",
        "  print(\"A\")\n",
        "  for i in range (len(Y_1)):\n",
        "    #print(Y_1[i])\n",
        "    \n",
        "        f=np.concatenate((Y_1[i],Y_2[i],Y_3[i],Y_4[i],Y_5[i],Y_6[i],Y_7[i]),axis=-1)\n",
        "        sum=np.sum(f,axis=2)\n",
        "       # print(sum)\n",
        "        \n",
        "          #print(j)\n",
        "        sum_1=np.divide(sum,7)\n",
        "        sum_1=np.ceil(sum_1)\n",
        "        sum2.append(sum_1)\n",
        "\n",
        "    #sum2=np.array(sum2,dtype='float32')\n",
        "    \n",
        "        \n",
        "  return sum2"
      ],
      "execution_count": 0,
      "outputs": []
    },
    {
      "cell_type": "code",
      "metadata": {
        "id": "AKZkQ3uroH07",
        "colab_type": "code",
        "outputId": "7bdb39f1-3a24-4905-fb3c-2d48a13ff56c",
        "colab": {
          "base_uri": "https://localhost:8080/",
          "height": 34
        }
      },
      "source": [
        "Y_Manual=union(Y_1,Y_2,Y_3,Y_4,Y_5,Y_6,Y_7)"
      ],
      "execution_count": 0,
      "outputs": [
        {
          "output_type": "stream",
          "text": [
            "A\n"
          ],
          "name": "stdout"
        }
      ]
    },
    {
      "cell_type": "code",
      "metadata": {
        "id": "jkAjIX2UVK9p",
        "colab_type": "code",
        "colab": {}
      },
      "source": [
        "import numpy as np\n",
        "\n",
        "np.save(\"drive/My Drive/MS_data/Y_manual_new.npy\",Y_Manual)"
      ],
      "execution_count": 0,
      "outputs": []
    },
    {
      "cell_type": "code",
      "metadata": {
        "id": "MzLefJh_Z8IK",
        "colab_type": "code",
        "colab": {}
      },
      "source": [
        "Y_manual=list(Y_Manual)"
      ],
      "execution_count": 0,
      "outputs": []
    },
    {
      "cell_type": "code",
      "metadata": {
        "id": "unMI94m08XGG",
        "colab_type": "code",
        "outputId": "77e81e7e-dc1e-49e2-a9e3-f81838598a02",
        "colab": {
          "base_uri": "https://localhost:8080/",
          "height": 34
        }
      },
      "source": [
        "print(len(Y_Manual))"
      ],
      "execution_count": 0,
      "outputs": [
        {
          "output_type": "stream",
          "text": [
            "5184\n"
          ],
          "name": "stdout"
        }
      ]
    },
    {
      "cell_type": "code",
      "metadata": {
        "id": "FTHwKTWjj4Rc",
        "colab_type": "code",
        "colab": {}
      },
      "source": [
        "Y_Manual=np.load(\"drive/My Drive/MS_data/Y_manual_new.npy\")"
      ],
      "execution_count": 0,
      "outputs": []
    },
    {
      "cell_type": "code",
      "metadata": {
        "id": "-wypBaiOjlRR",
        "colab_type": "code",
        "colab": {}
      },
      "source": [
        "X_Dp_t[0]"
      ],
      "execution_count": 0,
      "outputs": []
    },
    {
      "cell_type": "code",
      "metadata": {
        "id": "Z9AsuZHRoKAm",
        "colab_type": "code",
        "colab": {}
      },
      "source": [
        "X, Y,rec = remove_null_samples(X_Dp_t, X_Flair_t, X_Gado_t, X_T1_t, X_T2_t, Y_manual,rec_1)"
      ],
      "execution_count": 0,
      "outputs": []
    },
    {
      "cell_type": "code",
      "metadata": {
        "id": "ylJ6XQHMq6vy",
        "colab_type": "code",
        "colab": {}
      },
      "source": [
        "store_data(X,Y,rec)"
      ],
      "execution_count": 0,
      "outputs": []
    },
    {
      "cell_type": "code",
      "metadata": {
        "id": "A09m90QTnTOY",
        "colab_type": "code",
        "outputId": "9401f747-9cf3-405c-e4a5-a9f67d5308c1",
        "colab": {
          "base_uri": "https://localhost:8080/",
          "height": 34
        }
      },
      "source": [
        "print(rec)"
      ],
      "execution_count": 0,
      "outputs": [
        {
          "output_type": "stream",
          "text": [
            "[136. 143. 282. 268. 138. 280. 307. 144. 292. 141. 191. 221. 181. 216.]\n"
          ],
          "name": "stdout"
        }
      ]
    },
    {
      "cell_type": "code",
      "metadata": {
        "id": "x1cbDPRTspgp",
        "colab_type": "code",
        "colab": {}
      },
      "source": [
        ""
      ],
      "execution_count": 0,
      "outputs": []
    },
    {
      "cell_type": "code",
      "metadata": {
        "id": "dsG_vbxdBP52",
        "colab_type": "code",
        "outputId": "4e91cf6b-74f0-4268-c2f3-5fdf5beb577b",
        "colab": {
          "base_uri": "https://localhost:8080/",
          "height": 34
        }
      },
      "source": [
        "print(np.sum(rec))"
      ],
      "execution_count": 0,
      "outputs": [
        {
          "output_type": "stream",
          "text": [
            "2940.0\n"
          ],
          "name": "stdout"
        }
      ]
    },
    {
      "cell_type": "code",
      "metadata": {
        "id": "yYEinRqanW-P",
        "colab_type": "code",
        "outputId": "085d6b54-39b5-4e04-c2fe-3ce37f26139d",
        "colab": {
          "base_uri": "https://localhost:8080/",
          "height": 34
        }
      },
      "source": [
        "print(len(X))"
      ],
      "execution_count": 0,
      "outputs": [
        {
          "output_type": "stream",
          "text": [
            "2940\n"
          ],
          "name": "stdout"
        }
      ]
    },
    {
      "cell_type": "code",
      "metadata": {
        "id": "aGVsUHhyrBL4",
        "colab_type": "code",
        "colab": {}
      },
      "source": [
        "import numpy as np\n",
        "Y=np.load(\"drive/My Drive/MS_data/Y_union_new.npy\")"
      ],
      "execution_count": 0,
      "outputs": []
    },
    {
      "cell_type": "code",
      "metadata": {
        "id": "SccUiBcot4-L",
        "colab_type": "code",
        "colab": {}
      },
      "source": [
        "Y_Manual=list(Y)"
      ],
      "execution_count": 0,
      "outputs": []
    },
    {
      "cell_type": "code",
      "metadata": {
        "id": "taZnaq3mt7cE",
        "colab_type": "code",
        "colab": {}
      },
      "source": [
        "Y_1=Y_Manual[:1401]\n",
        "Y_2=Y_Manual[1401:]"
      ],
      "execution_count": 0,
      "outputs": []
    },
    {
      "cell_type": "code",
      "metadata": {
        "id": "usOtbVExt8wj",
        "colab_type": "code",
        "colab": {}
      },
      "source": [
        "p=[]\n",
        "y=[]\n",
        "z=[]\n",
        "a=[]\n",
        "n=1\n",
        "for i in Y_1:\n",
        "  print(n)\n",
        "  for j in i:\n",
        "    for k in j:\n",
        "      #print(k)\n",
        "      a.append(k)\n",
        "     # print(a)\n",
        "      z.append(a)\n",
        "      a=[]\n",
        "    #print(z)\n",
        "    y.append(z)\n",
        "    z=[]\n",
        "  p.append(y)\n",
        "  y=[]\n",
        "  n+=1\n",
        "\n",
        "\n",
        "#print(p)\n",
        "\n",
        "      "
      ],
      "execution_count": 0,
      "outputs": []
    },
    {
      "cell_type": "code",
      "metadata": {
        "id": "pet5yUkouAPY",
        "colab_type": "code",
        "colab": {}
      },
      "source": [
        "temp=np.array(p)\n",
        "np.save(\"drive/My Drive/MS_data/temp_1_new.npy\",temp)"
      ],
      "execution_count": 0,
      "outputs": []
    },
    {
      "cell_type": "code",
      "metadata": {
        "id": "_0BnWXrDuA0L",
        "colab_type": "code",
        "colab": {}
      },
      "source": [
        "q=[]\n",
        "y=[]\n",
        "z=[]\n",
        "a=[]\n",
        "n=1401\n",
        "for i in Y_2:\n",
        "  print(n)\n",
        "  for j in i:\n",
        "    for k in j:\n",
        "      #print(k)\n",
        "      a.append(k)\n",
        "     # print(a)\n",
        "      z.append(a)\n",
        "      a=[]\n",
        "    #print(z)\n",
        "    y.append(z)\n",
        "    z=[]\n",
        "  q.append(y)\n",
        "  y=[]\n",
        "  n+=1\n"
      ],
      "execution_count": 0,
      "outputs": []
    },
    {
      "cell_type": "code",
      "metadata": {
        "id": "fz_ePYqHuDKg",
        "colab_type": "code",
        "colab": {}
      },
      "source": [
        "temp2=np.array(q)\n",
        "np.save(\"drive/My Drive/MS_data/temp_2_new.npy\",temp2)"
      ],
      "execution_count": 0,
      "outputs": []
    },
    {
      "cell_type": "code",
      "metadata": {
        "id": "RwnX_jmQuFth",
        "colab_type": "code",
        "colab": {}
      },
      "source": [
        "temp=np.load(\"drive/My Drive/MS_data/temp_1_new.npy\")\n",
        "p=list(temp)"
      ],
      "execution_count": 0,
      "outputs": []
    },
    {
      "cell_type": "code",
      "metadata": {
        "id": "l5IaMRKNuHW2",
        "colab_type": "code",
        "colab": {}
      },
      "source": [
        "temp2=np.load(\"drive/My Drive/MS_data/temp_2_new.npy\")\n",
        "q=list(temp2)"
      ],
      "execution_count": 0,
      "outputs": []
    },
    {
      "cell_type": "code",
      "metadata": {
        "id": "qByqrVa5uIvb",
        "colab_type": "code",
        "colab": {}
      },
      "source": [
        "j=1401\n",
        "for i in q:\n",
        "  print(j)\n",
        "  p.append(i)\n",
        "  j+=1"
      ],
      "execution_count": 0,
      "outputs": []
    },
    {
      "cell_type": "code",
      "metadata": {
        "id": "_FkrLTNduNCO",
        "colab_type": "code",
        "colab": {}
      },
      "source": [
        "np.save(\"drive/My Drive/MS_data/Y_Manual_2_new.npy\",p)"
      ],
      "execution_count": 0,
      "outputs": []
    },
    {
      "cell_type": "code",
      "metadata": {
        "id": "CgLo-nESs8Rc",
        "colab_type": "code",
        "colab": {}
      },
      "source": [
        "Y=p"
      ],
      "execution_count": 0,
      "outputs": []
    },
    {
      "cell_type": "code",
      "metadata": {
        "id": "eWrx4FyktDzW",
        "colab_type": "code",
        "colab": {}
      },
      "source": [
        ""
      ],
      "execution_count": 0,
      "outputs": []
    },
    {
      "cell_type": "code",
      "metadata": {
        "id": "x8Kwef7CuN4f",
        "colab_type": "code",
        "colab": {}
      },
      "source": [
        "dummy_y=[]\n",
        "d_temp_1=[]\n",
        "d_temp_2=[]\n",
        "for i in range(len(Y[0])):\n",
        "  d_temp_1=[]\n",
        "  for j in range(len(Y[0][0])):\n",
        "    d_temp_2=[]\n",
        "    for k in range(len(Y[0][0][0])):\n",
        "      d_temp_2.append(0.)\n",
        "    d_temp_1.append(d_temp_2)\n",
        "  dummy_y.append(d_temp_1)\n",
        "Y_dummy=np.array(dummy_y, dtype='float32')\n",
        "\n",
        "\n",
        "\n",
        " \n",
        "\n"
      ],
      "execution_count": 0,
      "outputs": []
    },
    {
      "cell_type": "code",
      "metadata": {
        "id": "2nlKbkiuw1B_",
        "colab_type": "code",
        "outputId": "6425e698-9618-4b25-ca00-f9111fcaacf4",
        "colab": {
          "base_uri": "https://localhost:8080/",
          "height": 34
        }
      },
      "source": [
        "len(Y_dummy[0][0])"
      ],
      "execution_count": 0,
      "outputs": [
        {
          "output_type": "execute_result",
          "data": {
            "text/plain": [
              "1"
            ]
          },
          "metadata": {
            "tags": []
          },
          "execution_count": 5
        }
      ]
    },
    {
      "cell_type": "code",
      "metadata": {
        "id": "ReQHjsh-xP_o",
        "colab_type": "code",
        "colab": {}
      },
      "source": [
        "X=np.load(\"drive/My Drive/MS_data/X_union_new.npy\")"
      ],
      "execution_count": 0,
      "outputs": []
    },
    {
      "cell_type": "code",
      "metadata": {
        "id": "0uFj_QNFx5Sb",
        "colab_type": "code",
        "colab": {}
      },
      "source": [
        "X=list(X)"
      ],
      "execution_count": 0,
      "outputs": []
    },
    {
      "cell_type": "code",
      "metadata": {
        "id": "9_MLJSObxNIf",
        "colab_type": "code",
        "colab": {}
      },
      "source": [
        "dummy_x=[]\n",
        "d_temp_1=[]\n",
        "d_temp_2=[]\n",
        "for i in range(len(X[0])):\n",
        "  d_temp_1=[]\n",
        "  for j in range(len(X[0][0])):\n",
        "    d_temp_2=[]\n",
        "    for k in range(len(X[0][0][0])):\n",
        "      d_temp_2.append(0.)\n",
        "    d_temp_1.append(d_temp_2)\n",
        "  dummy_x.append(d_temp_1)\n",
        "X_dummy=np.array(dummy_x, dtype='float32')"
      ],
      "execution_count": 0,
      "outputs": []
    },
    {
      "cell_type": "code",
      "metadata": {
        "id": "Y7yLaaPQyHgN",
        "colab_type": "code",
        "colab": {}
      },
      "source": [
        "X_dummy"
      ],
      "execution_count": 0,
      "outputs": []
    },
    {
      "cell_type": "code",
      "metadata": {
        "id": "geCW3Vpeuf8o",
        "colab_type": "code",
        "colab": {}
      },
      "source": [
        "import numpy as np\n",
        "\n",
        "#Y=np.load(\"drive/My Drive/MS_data/Y_Manual_2_new.npy\")\n",
        "X=np.load(\"drive/My Drive/MS_data/X_union_new.npy\")\n",
        "#r=np.load(\"drive/My Drive/MS_data/union_new_rec_after_removal.npy\")"
      ],
      "execution_count": 0,
      "outputs": []
    },
    {
      "cell_type": "code",
      "metadata": {
        "id": "Ddq0jtVO4YEh",
        "colab_type": "code",
        "colab": {}
      },
      "source": [
        "X=list(X)\n",
        "#Y=list(Y)"
      ],
      "execution_count": 0,
      "outputs": []
    },
    {
      "cell_type": "code",
      "metadata": {
        "id": "Mb-6TQsLqc13",
        "colab_type": "code",
        "colab": {}
      },
      "source": [
        "Y=Y.tolist()"
      ],
      "execution_count": 0,
      "outputs": []
    },
    {
      "cell_type": "code",
      "metadata": {
        "id": "DBrcxwD9zWLy",
        "colab_type": "code",
        "outputId": "d90c54c9-5096-4f39-da4d-c3d64ba1fe0e",
        "colab": {
          "base_uri": "https://localhost:8080/",
          "height": 34
        }
      },
      "source": [
        "print(len(X))"
      ],
      "execution_count": 0,
      "outputs": [
        {
          "output_type": "stream",
          "text": [
            "2940\n"
          ],
          "name": "stdout"
        }
      ]
    },
    {
      "cell_type": "code",
      "metadata": {
        "id": "M628nftozcB0",
        "colab_type": "code",
        "colab": {}
      },
      "source": [
        "X_1=X[:1401]\n",
        "X_2=X[1401:]"
      ],
      "execution_count": 0,
      "outputs": []
    },
    {
      "cell_type": "code",
      "metadata": {
        "id": "XwvMxRMv0APG",
        "colab_type": "code",
        "colab": {}
      },
      "source": [
        "X_1=np.array(X_1,dtype='float32')"
      ],
      "execution_count": 0,
      "outputs": []
    },
    {
      "cell_type": "code",
      "metadata": {
        "id": "C6r_yEuA0Klw",
        "colab_type": "code",
        "colab": {}
      },
      "source": [
        "X_2=np.array(X_2,dtype='float32')"
      ],
      "execution_count": 0,
      "outputs": []
    },
    {
      "cell_type": "code",
      "metadata": {
        "id": "2u3FS4m00lpU",
        "colab_type": "code",
        "colab": {}
      },
      "source": [
        "import numpy as np\n"
      ],
      "execution_count": 0,
      "outputs": []
    },
    {
      "cell_type": "code",
      "metadata": {
        "id": "TDaJFf8I2JSY",
        "colab_type": "code",
        "colab": {}
      },
      "source": [
        "X_1=np.load(\"drive/My Drive/MS_data/X_union_temp1.npy\")"
      ],
      "execution_count": 0,
      "outputs": []
    },
    {
      "cell_type": "code",
      "metadata": {
        "id": "PATI2QU02Sn3",
        "colab_type": "code",
        "colab": {}
      },
      "source": [
        "X_2=np.load(\"drive/My Drive/MS_data/X_union_temp2.npy\")"
      ],
      "execution_count": 0,
      "outputs": []
    },
    {
      "cell_type": "code",
      "metadata": {
        "id": "KqOcRg7XB5Fd",
        "colab_type": "code",
        "colab": {}
      },
      "source": [
        "X_2=list(X_2)"
      ],
      "execution_count": 0,
      "outputs": []
    },
    {
      "cell_type": "code",
      "metadata": {
        "id": "emnVUrEFB-Hp",
        "colab_type": "code",
        "colab": {}
      },
      "source": [
        "X_2_1=X_2[:771]\n",
        "X_2_2=X_2[771:]"
      ],
      "execution_count": 0,
      "outputs": []
    },
    {
      "cell_type": "code",
      "metadata": {
        "id": "zU8izHMY1Cb1",
        "colab_type": "code",
        "colab": {}
      },
      "source": [
        "np.save(\"drive/My Drive/MS_data/X_union_temp2.npy\",X_2)"
      ],
      "execution_count": 0,
      "outputs": []
    },
    {
      "cell_type": "code",
      "metadata": {
        "id": "V0uT7_sYCTey",
        "colab_type": "code",
        "colab": {}
      },
      "source": [
        "np.save(\"drive/My Drive/MS_data/X_union_temp2_1.npy\",X_2_1)\n",
        "np.save(\"drive/My Drive/MS_data/X_union_temp2_2.npy\",X_2_2)"
      ],
      "execution_count": 0,
      "outputs": []
    },
    {
      "cell_type": "code",
      "metadata": {
        "id": "dcAaHcqlrWty",
        "colab_type": "code",
        "outputId": "c2ae8d48-315d-448e-ec24-a90160d8fb74",
        "colab": {
          "base_uri": "https://localhost:8080/",
          "height": 163
        }
      },
      "source": [
        "print(Y[0:2])"
      ],
      "execution_count": 0,
      "outputs": [
        {
          "output_type": "error",
          "ename": "NameError",
          "evalue": "ignored",
          "traceback": [
            "\u001b[0;31m---------------------------------------------------------------------------\u001b[0m",
            "\u001b[0;31mNameError\u001b[0m                                 Traceback (most recent call last)",
            "\u001b[0;32m<ipython-input-22-43a3d5389a10>\u001b[0m in \u001b[0;36m<module>\u001b[0;34m()\u001b[0m\n\u001b[0;32m----> 1\u001b[0;31m \u001b[0mprint\u001b[0m\u001b[0;34m(\u001b[0m\u001b[0mY\u001b[0m\u001b[0;34m[\u001b[0m\u001b[0;36m0\u001b[0m\u001b[0;34m:\u001b[0m\u001b[0;36m2\u001b[0m\u001b[0;34m]\u001b[0m\u001b[0;34m)\u001b[0m\u001b[0;34m\u001b[0m\u001b[0;34m\u001b[0m\u001b[0m\n\u001b[0m",
            "\u001b[0;31mNameError\u001b[0m: name 'Y' is not defined"
          ]
        }
      ]
    },
    {
      "cell_type": "code",
      "metadata": {
        "id": "7F20JpVJrwET",
        "colab_type": "code",
        "colab": {}
      },
      "source": [
        "np.save(\"drive/My Drive/MS_data/Y_union_list.npy\",Y)"
      ],
      "execution_count": 0,
      "outputs": []
    },
    {
      "cell_type": "code",
      "metadata": {
        "id": "t840f_bNMpwm",
        "colab_type": "code",
        "colab": {}
      },
      "source": [
        "Y=np.load(\"drive/My Drive/MS_data/Y_union_list.npy\")"
      ],
      "execution_count": 0,
      "outputs": []
    },
    {
      "cell_type": "code",
      "metadata": {
        "id": "oOcJOEsOM63I",
        "colab_type": "code",
        "colab": {}
      },
      "source": [
        "Y=list(Y)"
      ],
      "execution_count": 0,
      "outputs": []
    },
    {
      "cell_type": "code",
      "metadata": {
        "id": "Dee5fLVYQoTj",
        "colab_type": "code",
        "outputId": "87f89226-033e-4f9a-b536-8b6ae233f2bc",
        "colab": {
          "base_uri": "https://localhost:8080/",
          "height": 1000
        }
      },
      "source": [
        "print(Y[0:2])"
      ],
      "execution_count": 0,
      "outputs": [
        {
          "output_type": "stream",
          "text": [
            "[array([[[0.],\n",
            "        [0.],\n",
            "        [0.],\n",
            "        ...,\n",
            "        [0.],\n",
            "        [0.],\n",
            "        [0.]],\n",
            "\n",
            "       [[0.],\n",
            "        [0.],\n",
            "        [0.],\n",
            "        ...,\n",
            "        [0.],\n",
            "        [0.],\n",
            "        [0.]],\n",
            "\n",
            "       [[0.],\n",
            "        [0.],\n",
            "        [0.],\n",
            "        ...,\n",
            "        [0.],\n",
            "        [0.],\n",
            "        [0.]],\n",
            "\n",
            "       ...,\n",
            "\n",
            "       [[0.],\n",
            "        [0.],\n",
            "        [0.],\n",
            "        ...,\n",
            "        [0.],\n",
            "        [0.],\n",
            "        [0.]],\n",
            "\n",
            "       [[0.],\n",
            "        [0.],\n",
            "        [0.],\n",
            "        ...,\n",
            "        [0.],\n",
            "        [0.],\n",
            "        [0.]],\n",
            "\n",
            "       [[0.],\n",
            "        [0.],\n",
            "        [0.],\n",
            "        ...,\n",
            "        [0.],\n",
            "        [0.],\n",
            "        [0.]]]), array([[[0.],\n",
            "        [0.],\n",
            "        [0.],\n",
            "        ...,\n",
            "        [0.],\n",
            "        [0.],\n",
            "        [0.]],\n",
            "\n",
            "       [[0.],\n",
            "        [0.],\n",
            "        [0.],\n",
            "        ...,\n",
            "        [0.],\n",
            "        [0.],\n",
            "        [0.]],\n",
            "\n",
            "       [[0.],\n",
            "        [0.],\n",
            "        [0.],\n",
            "        ...,\n",
            "        [0.],\n",
            "        [0.],\n",
            "        [0.]],\n",
            "\n",
            "       ...,\n",
            "\n",
            "       [[0.],\n",
            "        [0.],\n",
            "        [0.],\n",
            "        ...,\n",
            "        [0.],\n",
            "        [0.],\n",
            "        [0.]],\n",
            "\n",
            "       [[0.],\n",
            "        [0.],\n",
            "        [0.],\n",
            "        ...,\n",
            "        [0.],\n",
            "        [0.],\n",
            "        [0.]],\n",
            "\n",
            "       [[0.],\n",
            "        [0.],\n",
            "        [0.],\n",
            "        ...,\n",
            "        [0.],\n",
            "        [0.],\n",
            "        [0.]]])]\n"
          ],
          "name": "stdout"
        }
      ]
    },
    {
      "cell_type": "code",
      "metadata": {
        "id": "nJTarpH_G_a2",
        "colab_type": "code",
        "colab": {}
      },
      "source": [
        "X_2_1=np.load(\"drive/My Drive/MS_data/X_union_temp2_1_after.npy\")"
      ],
      "execution_count": 0,
      "outputs": []
    },
    {
      "cell_type": "code",
      "metadata": {
        "id": "AKXWQt8mseRh",
        "colab_type": "code",
        "colab": {}
      },
      "source": [
        "#X_2_2=np.array(X_2_2,dtype='float32')\n",
        "X_2_2=X_2_2"
      ],
      "execution_count": 0,
      "outputs": []
    },
    {
      "cell_type": "code",
      "metadata": {
        "id": "qhOmsseJL5yR",
        "colab_type": "code",
        "outputId": "6e0c8452-06c0-4bac-aa80-9f0fd41f07c8",
        "colab": {
          "base_uri": "https://localhost:8080/",
          "height": 1000
        }
      },
      "source": [
        "print(X_2_2[0:2])"
      ],
      "execution_count": 0,
      "outputs": [
        {
          "output_type": "stream",
          "text": [
            "[[[[-0.05065425 -0.05050264 -0.03357786 -0.37272674 -0.36703324]\n",
            "   [-0.05065425 -0.05050264 -0.03357786 -0.37272674 -0.36703324]\n",
            "   [-0.05065425 -0.05050264 -0.03357786 -0.37272674 -0.36703324]\n",
            "   ...\n",
            "   [-0.05065425 -0.05050264 -0.03357786 -0.37272674 -0.36703324]\n",
            "   [-0.05065425 -0.05050264 -0.03357786 -0.37272674 -0.36703324]\n",
            "   [-0.05065425 -0.05050264 -0.03357786 -0.37272674 -0.36703324]]\n",
            "\n",
            "  [[-0.05065425 -0.05050264 -0.03357786 -0.37272674 -0.36703324]\n",
            "   [-0.05065425 -0.05050264 -0.03357786 -0.37272674 -0.36703324]\n",
            "   [-0.05065425 -0.05050264 -0.03357786 -0.37272674 -0.36703324]\n",
            "   ...\n",
            "   [-0.05065425 -0.05050264 -0.03357786 -0.37272674 -0.36703324]\n",
            "   [-0.05065425 -0.05050264 -0.03357786 -0.37272674 -0.36703324]\n",
            "   [-0.05065425 -0.05050264 -0.03357786 -0.37272674 -0.36703324]]\n",
            "\n",
            "  [[-0.05065425 -0.05050264 -0.03357786 -0.37272674 -0.36703324]\n",
            "   [-0.05065425 -0.05050264 -0.03357786 -0.37272674 -0.36703324]\n",
            "   [-0.05065425 -0.05050264 -0.03357786 -0.37272674 -0.36703324]\n",
            "   ...\n",
            "   [-0.05065425 -0.05050264 -0.03357786 -0.37272674 -0.36703324]\n",
            "   [-0.05065425 -0.05050264 -0.03357786 -0.37272674 -0.36703324]\n",
            "   [-0.05065425 -0.05050264 -0.03357786 -0.37272674 -0.36703324]]\n",
            "\n",
            "  ...\n",
            "\n",
            "  [[-0.05065425 -0.05050264 -0.03357786 -0.37272674 -0.36703324]\n",
            "   [-0.05065425 -0.05050264 -0.03357786 -0.37272674 -0.36703324]\n",
            "   [-0.05065425 -0.05050264 -0.03357786 -0.37272674 -0.36703324]\n",
            "   ...\n",
            "   [-0.05065425 -0.05050264 -0.03357786 -0.37272674 -0.36703324]\n",
            "   [-0.05065425 -0.05050264 -0.03357786 -0.37272674 -0.36703324]\n",
            "   [-0.05065425 -0.05050264 -0.03357786 -0.37272674 -0.36703324]]\n",
            "\n",
            "  [[-0.05065425 -0.05050264 -0.03357786 -0.37272674 -0.36703324]\n",
            "   [-0.05065425 -0.05050264 -0.03357786 -0.37272674 -0.36703324]\n",
            "   [-0.05065425 -0.05050264 -0.03357786 -0.37272674 -0.36703324]\n",
            "   ...\n",
            "   [-0.05065425 -0.05050264 -0.03357786 -0.37272674 -0.36703324]\n",
            "   [-0.05065425 -0.05050264 -0.03357786 -0.37272674 -0.36703324]\n",
            "   [-0.05065425 -0.05050264 -0.03357786 -0.37272674 -0.36703324]]\n",
            "\n",
            "  [[-0.05065425 -0.05050264 -0.03357786 -0.37272674 -0.36703324]\n",
            "   [-0.05065425 -0.05050264 -0.03357786 -0.37272674 -0.36703324]\n",
            "   [-0.05065425 -0.05050264 -0.03357786 -0.37272674 -0.36703324]\n",
            "   ...\n",
            "   [-0.05065425 -0.05050264 -0.03357786 -0.37272674 -0.36703324]\n",
            "   [-0.05065425 -0.05050264 -0.03357786 -0.37272674 -0.36703324]\n",
            "   [-0.05065425 -0.05050264 -0.03357786 -0.37272674 -0.36703324]]]\n",
            "\n",
            "\n",
            " [[[-0.06957615 -0.06084451 -0.03578298 -0.38143209 -0.37585041]\n",
            "   [-0.06957615 -0.06084451 -0.03578298 -0.38143209 -0.37585041]\n",
            "   [-0.06957615 -0.06084451 -0.03578298 -0.38143209 -0.37585041]\n",
            "   ...\n",
            "   [-0.06957615 -0.06084451 -0.03578298 -0.38143209 -0.37585041]\n",
            "   [-0.06957615 -0.06084451 -0.03578298 -0.38143209 -0.37585041]\n",
            "   [-0.06957615 -0.06084451 -0.03578298 -0.38143209 -0.37585041]]\n",
            "\n",
            "  [[-0.06957615 -0.06084451 -0.03578298 -0.38143209 -0.37585041]\n",
            "   [-0.06957615 -0.06084451 -0.03578298 -0.38143209 -0.37585041]\n",
            "   [-0.06957615 -0.06084451 -0.03578298 -0.38143209 -0.37585041]\n",
            "   ...\n",
            "   [-0.06957615 -0.06084451 -0.03578298 -0.38143209 -0.37585041]\n",
            "   [-0.06957615 -0.06084451 -0.03578298 -0.38143209 -0.37585041]\n",
            "   [-0.06957615 -0.06084451 -0.03578298 -0.38143209 -0.37585041]]\n",
            "\n",
            "  [[-0.06957615 -0.06084451 -0.03578298 -0.38143209 -0.37585041]\n",
            "   [-0.06957615 -0.06084451 -0.03578298 -0.38143209 -0.37585041]\n",
            "   [-0.06957615 -0.06084451 -0.03578298 -0.38143209 -0.37585041]\n",
            "   ...\n",
            "   [-0.06957615 -0.06084451 -0.03578298 -0.38143209 -0.37585041]\n",
            "   [-0.06957615 -0.06084451 -0.03578298 -0.38143209 -0.37585041]\n",
            "   [-0.06957615 -0.06084451 -0.03578298 -0.38143209 -0.37585041]]\n",
            "\n",
            "  ...\n",
            "\n",
            "  [[-0.06957615 -0.06084451 -0.03578298 -0.38143209 -0.37585041]\n",
            "   [-0.06957615 -0.06084451 -0.03578298 -0.38143209 -0.37585041]\n",
            "   [-0.06957615 -0.06084451 -0.03578298 -0.38143209 -0.37585041]\n",
            "   ...\n",
            "   [-0.06957615 -0.06084451 -0.03578298 -0.38143209 -0.37585041]\n",
            "   [-0.06957615 -0.06084451 -0.03578298 -0.38143209 -0.37585041]\n",
            "   [-0.06957615 -0.06084451 -0.03578298 -0.38143209 -0.37585041]]\n",
            "\n",
            "  [[-0.06957615 -0.06084451 -0.03578298 -0.38143209 -0.37585041]\n",
            "   [-0.06957615 -0.06084451 -0.03578298 -0.38143209 -0.37585041]\n",
            "   [-0.06957615 -0.06084451 -0.03578298 -0.38143209 -0.37585041]\n",
            "   ...\n",
            "   [-0.06957615 -0.06084451 -0.03578298 -0.38143209 -0.37585041]\n",
            "   [-0.06957615 -0.06084451 -0.03578298 -0.38143209 -0.37585041]\n",
            "   [-0.06957615 -0.06084451 -0.03578298 -0.38143209 -0.37585041]]\n",
            "\n",
            "  [[-0.06957615 -0.06084451 -0.03578298 -0.38143209 -0.37585041]\n",
            "   [-0.06957615 -0.06084451 -0.03578298 -0.38143209 -0.37585041]\n",
            "   [-0.06957615 -0.06084451 -0.03578298 -0.38143209 -0.37585041]\n",
            "   ...\n",
            "   [-0.06957615 -0.06084451 -0.03578298 -0.38143209 -0.37585041]\n",
            "   [-0.06957615 -0.06084451 -0.03578298 -0.38143209 -0.37585041]\n",
            "   [-0.06957615 -0.06084451 -0.03578298 -0.38143209 -0.37585041]]]]\n"
          ],
          "name": "stdout"
        }
      ]
    },
    {
      "cell_type": "code",
      "metadata": {
        "id": "45JebtFrG-GO",
        "colab_type": "code",
        "colab": {}
      },
      "source": [
        "X_1=np.load(\"drive/My Drive/MS_data/X_union_temp1_after.npy\")"
      ],
      "execution_count": 0,
      "outputs": []
    },
    {
      "cell_type": "code",
      "metadata": {
        "id": "R6OoH159GMIu",
        "colab_type": "code",
        "colab": {}
      },
      "source": [
        "np.save(\"drive/My Drive/MS_data/X_union_temp2_2_after.npy\",X_2_2)"
      ],
      "execution_count": 0,
      "outputs": []
    },
    {
      "cell_type": "code",
      "metadata": {
        "id": "-Bb-PwemPIj7",
        "colab_type": "code",
        "colab": {}
      },
      "source": [
        "import numpy as np"
      ],
      "execution_count": 0,
      "outputs": []
    },
    {
      "cell_type": "code",
      "metadata": {
        "id": "38LxqkgCIjSi",
        "colab_type": "code",
        "colab": {}
      },
      "source": [
        "X_2_2=np.load(\"drive/My Drive/MS_data/X_union_temp2_2_after.npy\")"
      ],
      "execution_count": 0,
      "outputs": []
    },
    {
      "cell_type": "code",
      "metadata": {
        "id": "MgaKrW7WOnxf",
        "colab_type": "code",
        "colab": {}
      },
      "source": [
        "print(X_2_1)"
      ],
      "execution_count": 0,
      "outputs": []
    },
    {
      "cell_type": "code",
      "metadata": {
        "id": "T_CQEGdIJEYu",
        "colab_type": "code",
        "colab": {}
      },
      "source": [
        "X_1=list(X_1)"
      ],
      "execution_count": 0,
      "outputs": []
    },
    {
      "cell_type": "code",
      "metadata": {
        "id": "uMLoi_-2JJBi",
        "colab_type": "code",
        "colab": {}
      },
      "source": [
        "X_2_1=list(X_2_1)\n",
        "X_2_2=list(X_2_2)"
      ],
      "execution_count": 0,
      "outputs": []
    },
    {
      "cell_type": "code",
      "metadata": {
        "id": "IXFS2gQ1N46M",
        "colab_type": "code",
        "outputId": "98aedcd2-b40d-4e12-f6f0-92a2fd24a81f",
        "colab": {
          "base_uri": "https://localhost:8080/",
          "height": 1000
        }
      },
      "source": [
        "print(X_2_1[0:2])"
      ],
      "execution_count": 0,
      "outputs": [
        {
          "output_type": "stream",
          "text": [
            "[array([[[-0.02164003,  0.        ,  0.        , -0.59300214,\n",
            "         -0.55682999],\n",
            "        [-0.02164003,  0.        ,  0.        , -0.59300214,\n",
            "         -0.55682999],\n",
            "        [-0.02164003,  0.        ,  0.        , -0.59300214,\n",
            "         -0.55682999],\n",
            "        ...,\n",
            "        [-0.02164003,  0.        ,  0.        , -0.59300214,\n",
            "         -0.55682999],\n",
            "        [-0.02164003,  0.        ,  0.        , -0.59300214,\n",
            "         -0.55682999],\n",
            "        [-0.02164003,  0.        ,  0.        , -0.59300214,\n",
            "         -0.55682999]],\n",
            "\n",
            "       [[-0.02164003,  0.        ,  0.        , -0.59300214,\n",
            "         -0.55682999],\n",
            "        [-0.02164003,  0.        ,  0.        , -0.59300214,\n",
            "         -0.55682999],\n",
            "        [-0.02164003,  0.        ,  0.        , -0.59300214,\n",
            "         -0.55682999],\n",
            "        ...,\n",
            "        [-0.02164003,  0.        ,  0.        , -0.59300214,\n",
            "         -0.55682999],\n",
            "        [-0.02164003,  0.        ,  0.        , -0.59300214,\n",
            "         -0.55682999],\n",
            "        [-0.02164003,  0.        ,  0.        , -0.59300214,\n",
            "         -0.55682999]],\n",
            "\n",
            "       [[-0.02164003,  0.        ,  0.        , -0.59300214,\n",
            "         -0.55682999],\n",
            "        [-0.02164003,  0.        ,  0.        , -0.59300214,\n",
            "         -0.55682999],\n",
            "        [-0.02164003,  0.        ,  0.        , -0.59300214,\n",
            "         -0.55682999],\n",
            "        ...,\n",
            "        [-0.02164003,  0.        ,  0.        , -0.59300214,\n",
            "         -0.55682999],\n",
            "        [-0.02164003,  0.        ,  0.        , -0.59300214,\n",
            "         -0.55682999],\n",
            "        [-0.02164003,  0.        ,  0.        , -0.59300214,\n",
            "         -0.55682999]],\n",
            "\n",
            "       ...,\n",
            "\n",
            "       [[-0.02164003,  0.        ,  0.        , -0.59300214,\n",
            "         -0.55682999],\n",
            "        [-0.02164003,  0.        ,  0.        , -0.59300214,\n",
            "         -0.55682999],\n",
            "        [-0.02164003,  0.        ,  0.        , -0.59300214,\n",
            "         -0.55682999],\n",
            "        ...,\n",
            "        [-0.02164003,  0.        ,  0.        , -0.59300214,\n",
            "         -0.55682999],\n",
            "        [-0.02164003,  0.        ,  0.        , -0.59300214,\n",
            "         -0.55682999],\n",
            "        [-0.02164003,  0.        ,  0.        , -0.59300214,\n",
            "         -0.55682999]],\n",
            "\n",
            "       [[-0.02164003,  0.        ,  0.        , -0.59300214,\n",
            "         -0.55682999],\n",
            "        [-0.02164003,  0.        ,  0.        , -0.59300214,\n",
            "         -0.55682999],\n",
            "        [-0.02164003,  0.        ,  0.        , -0.59300214,\n",
            "         -0.55682999],\n",
            "        ...,\n",
            "        [-0.02164003,  0.        ,  0.        , -0.59300214,\n",
            "         -0.55682999],\n",
            "        [-0.02164003,  0.        ,  0.        , -0.59300214,\n",
            "         -0.55682999],\n",
            "        [-0.02164003,  0.        ,  0.        , -0.59300214,\n",
            "         -0.55682999]],\n",
            "\n",
            "       [[-0.02164003,  0.        ,  0.        , -0.59300214,\n",
            "         -0.55682999],\n",
            "        [-0.02164003,  0.        ,  0.        , -0.59300214,\n",
            "         -0.55682999],\n",
            "        [-0.02164003,  0.        ,  0.        , -0.59300214,\n",
            "         -0.55682999],\n",
            "        ...,\n",
            "        [-0.02164003,  0.        ,  0.        , -0.59300214,\n",
            "         -0.55682999],\n",
            "        [-0.02164003,  0.        ,  0.        , -0.59300214,\n",
            "         -0.55682999],\n",
            "        [-0.02164003,  0.        ,  0.        , -0.59300214,\n",
            "         -0.55682999]]]), array([[[-0.01596198,  0.        ,  0.        , -0.59393698,\n",
            "         -0.55744177],\n",
            "        [-0.01596198,  0.        ,  0.        , -0.59393698,\n",
            "         -0.55744177],\n",
            "        [-0.01596198,  0.        ,  0.        , -0.59393698,\n",
            "         -0.55744177],\n",
            "        ...,\n",
            "        [-0.01596198,  0.        ,  0.        , -0.59393698,\n",
            "         -0.55744177],\n",
            "        [-0.01596198,  0.        ,  0.        , -0.59393698,\n",
            "         -0.55744177],\n",
            "        [-0.01596198,  0.        ,  0.        , -0.59393698,\n",
            "         -0.55744177]],\n",
            "\n",
            "       [[-0.01596198,  0.        ,  0.        , -0.59393698,\n",
            "         -0.55744177],\n",
            "        [-0.01596198,  0.        ,  0.        , -0.59393698,\n",
            "         -0.55744177],\n",
            "        [-0.01596198,  0.        ,  0.        , -0.59393698,\n",
            "         -0.55744177],\n",
            "        ...,\n",
            "        [-0.01596198,  0.        ,  0.        , -0.59393698,\n",
            "         -0.55744177],\n",
            "        [-0.01596198,  0.        ,  0.        , -0.59393698,\n",
            "         -0.55744177],\n",
            "        [-0.01596198,  0.        ,  0.        , -0.59393698,\n",
            "         -0.55744177]],\n",
            "\n",
            "       [[-0.01596198,  0.        ,  0.        , -0.59393698,\n",
            "         -0.55744177],\n",
            "        [-0.01596198,  0.        ,  0.        , -0.59393698,\n",
            "         -0.55744177],\n",
            "        [-0.01596198,  0.        ,  0.        , -0.59393698,\n",
            "         -0.55744177],\n",
            "        ...,\n",
            "        [-0.01596198,  0.        ,  0.        , -0.59393698,\n",
            "         -0.55744177],\n",
            "        [-0.01596198,  0.        ,  0.        , -0.59393698,\n",
            "         -0.55744177],\n",
            "        [-0.01596198,  0.        ,  0.        , -0.59393698,\n",
            "         -0.55744177]],\n",
            "\n",
            "       ...,\n",
            "\n",
            "       [[-0.01596198,  0.        ,  0.        , -0.59393698,\n",
            "         -0.55744177],\n",
            "        [-0.01596198,  0.        ,  0.        , -0.59393698,\n",
            "         -0.55744177],\n",
            "        [-0.01596198,  0.        ,  0.        , -0.59393698,\n",
            "         -0.55744177],\n",
            "        ...,\n",
            "        [-0.01596198,  0.        ,  0.        , -0.59393698,\n",
            "         -0.55744177],\n",
            "        [-0.01596198,  0.        ,  0.        , -0.59393698,\n",
            "         -0.55744177],\n",
            "        [-0.01596198,  0.        ,  0.        , -0.59393698,\n",
            "         -0.55744177]],\n",
            "\n",
            "       [[-0.01596198,  0.        ,  0.        , -0.59393698,\n",
            "         -0.55744177],\n",
            "        [-0.01596198,  0.        ,  0.        , -0.59393698,\n",
            "         -0.55744177],\n",
            "        [-0.01596198,  0.        ,  0.        , -0.59393698,\n",
            "         -0.55744177],\n",
            "        ...,\n",
            "        [-0.01596198,  0.        ,  0.        , -0.59393698,\n",
            "         -0.55744177],\n",
            "        [-0.01596198,  0.        ,  0.        , -0.59393698,\n",
            "         -0.55744177],\n",
            "        [-0.01596198,  0.        ,  0.        , -0.59393698,\n",
            "         -0.55744177]],\n",
            "\n",
            "       [[-0.01596198,  0.        ,  0.        , -0.59393698,\n",
            "         -0.55744177],\n",
            "        [-0.01596198,  0.        ,  0.        , -0.59393698,\n",
            "         -0.55744177],\n",
            "        [-0.01596198,  0.        ,  0.        , -0.59393698,\n",
            "         -0.55744177],\n",
            "        ...,\n",
            "        [-0.01596198,  0.        ,  0.        , -0.59393698,\n",
            "         -0.55744177],\n",
            "        [-0.01596198,  0.        ,  0.        , -0.59393698,\n",
            "         -0.55744177],\n",
            "        [-0.01596198,  0.        ,  0.        , -0.59393698,\n",
            "         -0.55744177]]])]\n"
          ],
          "name": "stdout"
        }
      ]
    },
    {
      "cell_type": "code",
      "metadata": {
        "id": "uU5JWiw7N-a4",
        "colab_type": "code",
        "colab": {}
      },
      "source": [
        "print(X_2[0:2])"
      ],
      "execution_count": 0,
      "outputs": []
    },
    {
      "cell_type": "code",
      "metadata": {
        "id": "h1MkL0JxJeeN",
        "colab_type": "code",
        "colab": {}
      },
      "source": [
        "X=X_1+X_2"
      ],
      "execution_count": 0,
      "outputs": []
    },
    {
      "cell_type": "code",
      "metadata": {
        "id": "l9ATPwmKK0Gj",
        "colab_type": "code",
        "outputId": "d9e4d172-2022-4679-a6ba-eb0be24032c3",
        "colab": {
          "base_uri": "https://localhost:8080/",
          "height": 1000
        }
      },
      "source": [
        "print(X[0:2])"
      ],
      "execution_count": 0,
      "outputs": [
        {
          "output_type": "stream",
          "text": [
            "[array([[[ 0.        ,  0.        ,  0.        , -0.03076838,\n",
            "          0.        ],\n",
            "        [ 0.        ,  0.        ,  0.        , -0.03076838,\n",
            "          0.        ],\n",
            "        [ 0.        ,  0.        ,  0.        , -0.03076838,\n",
            "          0.        ],\n",
            "        ...,\n",
            "        [ 0.        ,  0.        ,  0.        , -0.03076838,\n",
            "          0.        ],\n",
            "        [ 0.        ,  0.        ,  0.        , -0.03076838,\n",
            "          0.        ],\n",
            "        [ 0.        ,  0.        ,  0.        , -0.03076838,\n",
            "          0.        ]],\n",
            "\n",
            "       [[ 0.        ,  0.        ,  0.        , -0.03076838,\n",
            "          0.        ],\n",
            "        [ 0.        ,  0.        ,  0.        , -0.03076838,\n",
            "          0.        ],\n",
            "        [ 0.        ,  0.        ,  0.        , -0.03076838,\n",
            "          0.        ],\n",
            "        ...,\n",
            "        [ 0.        ,  0.        ,  0.        , -0.03076838,\n",
            "          0.        ],\n",
            "        [ 0.        ,  0.        ,  0.        , -0.03076838,\n",
            "          0.        ],\n",
            "        [ 0.        ,  0.        ,  0.        , -0.03076838,\n",
            "          0.        ]],\n",
            "\n",
            "       [[ 0.        ,  0.        ,  0.        , -0.03076838,\n",
            "          0.        ],\n",
            "        [ 0.        ,  0.        ,  0.        , -0.03076838,\n",
            "          0.        ],\n",
            "        [ 0.        ,  0.        ,  0.        , -0.03076838,\n",
            "          0.        ],\n",
            "        ...,\n",
            "        [ 0.        ,  0.        ,  0.        , -0.03076838,\n",
            "          0.        ],\n",
            "        [ 0.        ,  0.        ,  0.        , -0.03076838,\n",
            "          0.        ],\n",
            "        [ 0.        ,  0.        ,  0.        , -0.03076838,\n",
            "          0.        ]],\n",
            "\n",
            "       ...,\n",
            "\n",
            "       [[ 0.        ,  0.        ,  0.        , -0.03076838,\n",
            "          0.        ],\n",
            "        [ 0.        ,  0.        ,  0.        , -0.03076838,\n",
            "          0.        ],\n",
            "        [ 0.        ,  0.        ,  0.        , -0.03076838,\n",
            "          0.        ],\n",
            "        ...,\n",
            "        [ 0.        ,  0.        ,  0.        , -0.03076838,\n",
            "          0.        ],\n",
            "        [ 0.        ,  0.        ,  0.        , -0.03076838,\n",
            "          0.        ],\n",
            "        [ 0.        ,  0.        ,  0.        , -0.03076838,\n",
            "          0.        ]],\n",
            "\n",
            "       [[ 0.        ,  0.        ,  0.        , -0.03076838,\n",
            "          0.        ],\n",
            "        [ 0.        ,  0.        ,  0.        , -0.03076838,\n",
            "          0.        ],\n",
            "        [ 0.        ,  0.        ,  0.        , -0.03076838,\n",
            "          0.        ],\n",
            "        ...,\n",
            "        [ 0.        ,  0.        ,  0.        , -0.03076838,\n",
            "          0.        ],\n",
            "        [ 0.        ,  0.        ,  0.        , -0.03076838,\n",
            "          0.        ],\n",
            "        [ 0.        ,  0.        ,  0.        , -0.03076838,\n",
            "          0.        ]],\n",
            "\n",
            "       [[ 0.        ,  0.        ,  0.        , -0.03076838,\n",
            "          0.        ],\n",
            "        [ 0.        ,  0.        ,  0.        , -0.03076838,\n",
            "          0.        ],\n",
            "        [ 0.        ,  0.        ,  0.        , -0.03076838,\n",
            "          0.        ],\n",
            "        ...,\n",
            "        [ 0.        ,  0.        ,  0.        , -0.03076838,\n",
            "          0.        ],\n",
            "        [ 0.        ,  0.        ,  0.        , -0.03076838,\n",
            "          0.        ],\n",
            "        [ 0.        ,  0.        ,  0.        , -0.03076838,\n",
            "          0.        ]]]), array([[[ 0.        ,  0.        ,  0.        , -0.05493606,\n",
            "          0.        ],\n",
            "        [ 0.        ,  0.        ,  0.        , -0.05493606,\n",
            "          0.        ],\n",
            "        [ 0.        ,  0.        ,  0.        , -0.05493606,\n",
            "          0.        ],\n",
            "        ...,\n",
            "        [ 0.        ,  0.        ,  0.        , -0.05493606,\n",
            "          0.        ],\n",
            "        [ 0.        ,  0.        ,  0.        , -0.05493606,\n",
            "          0.        ],\n",
            "        [ 0.        ,  0.        ,  0.        , -0.05493606,\n",
            "          0.        ]],\n",
            "\n",
            "       [[ 0.        ,  0.        ,  0.        , -0.05493606,\n",
            "          0.        ],\n",
            "        [ 0.        ,  0.        ,  0.        , -0.05493606,\n",
            "          0.        ],\n",
            "        [ 0.        ,  0.        ,  0.        , -0.05493606,\n",
            "          0.        ],\n",
            "        ...,\n",
            "        [ 0.        ,  0.        ,  0.        , -0.05493606,\n",
            "          0.        ],\n",
            "        [ 0.        ,  0.        ,  0.        , -0.05493606,\n",
            "          0.        ],\n",
            "        [ 0.        ,  0.        ,  0.        , -0.05493606,\n",
            "          0.        ]],\n",
            "\n",
            "       [[ 0.        ,  0.        ,  0.        , -0.05493606,\n",
            "          0.        ],\n",
            "        [ 0.        ,  0.        ,  0.        , -0.05493606,\n",
            "          0.        ],\n",
            "        [ 0.        ,  0.        ,  0.        , -0.05493606,\n",
            "          0.        ],\n",
            "        ...,\n",
            "        [ 0.        ,  0.        ,  0.        , -0.05493606,\n",
            "          0.        ],\n",
            "        [ 0.        ,  0.        ,  0.        , -0.05493606,\n",
            "          0.        ],\n",
            "        [ 0.        ,  0.        ,  0.        , -0.05493606,\n",
            "          0.        ]],\n",
            "\n",
            "       ...,\n",
            "\n",
            "       [[ 0.        ,  0.        ,  0.        , -0.05493606,\n",
            "          0.        ],\n",
            "        [ 0.        ,  0.        ,  0.        , -0.05493606,\n",
            "          0.        ],\n",
            "        [ 0.        ,  0.        ,  0.        , -0.05493606,\n",
            "          0.        ],\n",
            "        ...,\n",
            "        [ 0.        ,  0.        ,  0.        , -0.05493606,\n",
            "          0.        ],\n",
            "        [ 0.        ,  0.        ,  0.        , -0.05493606,\n",
            "          0.        ],\n",
            "        [ 0.        ,  0.        ,  0.        , -0.05493606,\n",
            "          0.        ]],\n",
            "\n",
            "       [[ 0.        ,  0.        ,  0.        , -0.05493606,\n",
            "          0.        ],\n",
            "        [ 0.        ,  0.        ,  0.        , -0.05493606,\n",
            "          0.        ],\n",
            "        [ 0.        ,  0.        ,  0.        , -0.05493606,\n",
            "          0.        ],\n",
            "        ...,\n",
            "        [ 0.        ,  0.        ,  0.        , -0.05493606,\n",
            "          0.        ],\n",
            "        [ 0.        ,  0.        ,  0.        , -0.05493606,\n",
            "          0.        ],\n",
            "        [ 0.        ,  0.        ,  0.        , -0.05493606,\n",
            "          0.        ]],\n",
            "\n",
            "       [[ 0.        ,  0.        ,  0.        , -0.05493606,\n",
            "          0.        ],\n",
            "        [ 0.        ,  0.        ,  0.        , -0.05493606,\n",
            "          0.        ],\n",
            "        [ 0.        ,  0.        ,  0.        , -0.05493606,\n",
            "          0.        ],\n",
            "        ...,\n",
            "        [ 0.        ,  0.        ,  0.        , -0.05493606,\n",
            "          0.        ],\n",
            "        [ 0.        ,  0.        ,  0.        , -0.05493606,\n",
            "          0.        ],\n",
            "        [ 0.        ,  0.        ,  0.        , -0.05493606,\n",
            "          0.        ]]])]\n"
          ],
          "name": "stdout"
        }
      ]
    },
    {
      "cell_type": "code",
      "metadata": {
        "id": "AYjuGLcC2832",
        "colab_type": "code",
        "colab": {}
      },
      "source": [
        "np.save(\"drive/My Drive/MS_data/X_union_list.npy\",X)"
      ],
      "execution_count": 0,
      "outputs": []
    },
    {
      "cell_type": "code",
      "metadata": {
        "id": "JMi_8pUYzwER",
        "colab_type": "code",
        "colab": {}
      },
      "source": [
        "extra=[0,1,6,4,6,0,5,0,4,3,1,3,3,0]"
      ],
      "execution_count": 0,
      "outputs": []
    },
    {
      "cell_type": "code",
      "metadata": {
        "id": "YjuzZbKo0Pef",
        "colab_type": "code",
        "outputId": "23c99725-3f84-4b2e-a38d-7b927d53127a",
        "colab": {
          "base_uri": "https://localhost:8080/",
          "height": 34
        }
      },
      "source": [
        "extra"
      ],
      "execution_count": 0,
      "outputs": [
        {
          "output_type": "execute_result",
          "data": {
            "text/plain": [
              "[0, 1, 6, 4, 6, 0, 5, 0, 4, 3, 1, 3, 3, 0]"
            ]
          },
          "metadata": {
            "tags": []
          },
          "execution_count": 10
        }
      ]
    },
    {
      "cell_type": "code",
      "metadata": {
        "id": "G3Juxcrr4hso",
        "colab_type": "code",
        "colab": {}
      },
      "source": [
        "ext=np.array(extra,dtype='float32')"
      ],
      "execution_count": 0,
      "outputs": []
    },
    {
      "cell_type": "code",
      "metadata": {
        "id": "_p4sdFME4qUG",
        "colab_type": "code",
        "colab": {}
      },
      "source": [
        "s=np.sum(ext)"
      ],
      "execution_count": 0,
      "outputs": []
    },
    {
      "cell_type": "code",
      "metadata": {
        "id": "j2ScrjhL41Gg",
        "colab_type": "code",
        "outputId": "08f7702a-fce6-4961-93e9-a531a6c00c3a",
        "colab": {
          "base_uri": "https://localhost:8080/",
          "height": 34
        }
      },
      "source": [
        "print(s)"
      ],
      "execution_count": 0,
      "outputs": [
        {
          "output_type": "stream",
          "text": [
            "36.0\n"
          ],
          "name": "stdout"
        }
      ]
    },
    {
      "cell_type": "code",
      "metadata": {
        "id": "xgb6Eh2w0BX8",
        "colab_type": "code",
        "colab": {}
      },
      "source": [
        "r=np.load(\"drive/My Drive/MS_data/union_new_rec_after_removal.npy\")"
      ],
      "execution_count": 0,
      "outputs": []
    },
    {
      "cell_type": "code",
      "metadata": {
        "id": "Mx5aWSi_0HlO",
        "colab_type": "code",
        "colab": {}
      },
      "source": [
        "rec=list(r)"
      ],
      "execution_count": 0,
      "outputs": []
    },
    {
      "cell_type": "code",
      "metadata": {
        "id": "yPJFT4K90LKj",
        "colab_type": "code",
        "colab": {}
      },
      "source": [
        "rec"
      ],
      "execution_count": 0,
      "outputs": []
    },
    {
      "cell_type": "code",
      "metadata": {
        "id": "x7wbeeen0Sc2",
        "colab_type": "code",
        "colab": {}
      },
      "source": [
        "j=0\n",
        "index=0\n",
        "for i in extra:\n",
        "  k=0\n",
        "  \n",
        "  print(i)\n",
        "  index=index+rec[j]\n",
        "  j+=1\n",
        "  while(k<i):\n",
        "    index=index+k\n",
        "    print(index)\n",
        "    index=int(index)\n",
        "    Y.insert(index,Y_dummy)\n",
        "    X.insert(index,X_dummy)\n",
        "\n",
        "    k+=1"
      ],
      "execution_count": 0,
      "outputs": []
    },
    {
      "cell_type": "code",
      "metadata": {
        "id": "SikOJn6n3Zxh",
        "colab_type": "code",
        "outputId": "0378db45-284e-488b-e9ca-2e22bc4e823d",
        "colab": {
          "base_uri": "https://localhost:8080/",
          "height": 34
        }
      },
      "source": [
        "print(len(Y))"
      ],
      "execution_count": 0,
      "outputs": [
        {
          "output_type": "stream",
          "text": [
            "2976\n"
          ],
          "name": "stdout"
        }
      ]
    },
    {
      "cell_type": "code",
      "metadata": {
        "id": "6fSK4-7pA09v",
        "colab_type": "code",
        "colab": {}
      },
      "source": [
        ""
      ],
      "execution_count": 0,
      "outputs": []
    },
    {
      "cell_type": "code",
      "metadata": {
        "id": "qlEjbPeZuh3u",
        "colab_type": "code",
        "colab": {}
      },
      "source": [
        "rec=list(r)\n",
        "X=list(X)\n",
        "Y=list(Y)"
      ],
      "execution_count": 0,
      "outputs": []
    },
    {
      "cell_type": "code",
      "metadata": {
        "id": "gyanMQSYNhdb",
        "colab_type": "code",
        "colab": {}
      },
      "source": [
        "X=np.array(X,dtype='float32')\n",
        "Y=np.array(Y,dtype='float32')\n",
        "\n",
        "np.save(\"drive/My Drive/MS_data/Actual_X.npy\",X)\n",
        "np.save(\"drive/My Drive/MS_data/Actual_Y.npy\",Y)"
      ],
      "execution_count": 0,
      "outputs": []
    },
    {
      "cell_type": "code",
      "metadata": {
        "id": "7PJhn7d9O0Mp",
        "colab_type": "code",
        "colab": {}
      },
      "source": [
        "\n",
        "Y=np.load(\"drive/My Drive/MS_data/Actual_X.npy\")\n",
        "X=np.load(\"drive/My Drive/MS_data/Actual_Y.npy\")"
      ],
      "execution_count": 0,
      "outputs": []
    },
    {
      "cell_type": "code",
      "metadata": {
        "id": "wYG1ndywBQYA",
        "colab_type": "code",
        "colab": {}
      },
      "source": [
        "X_1=[]\n",
        "Y_1=[]\n"
      ],
      "execution_count": 0,
      "outputs": []
    },
    {
      "cell_type": "code",
      "metadata": {
        "id": "-wi0K2bKBXtq",
        "colab_type": "code",
        "colab": {}
      },
      "source": [
        "X=list(X)\n",
        "Y=list(Y)"
      ],
      "execution_count": 0,
      "outputs": []
    },
    {
      "cell_type": "code",
      "metadata": {
        "id": "3UnFSs1HBim5",
        "colab_type": "code",
        "colab": {}
      },
      "source": [
        "index_x_p=0\n",
        "index_x=length\n",
        "index_y_p=0\n",
        "index_y=length\n",
        "x_temp=[]\n",
        "y_temp=[]\n",
        "length=8\n",
        "\n"
      ],
      "execution_count": 0,
      "outputs": []
    },
    {
      "cell_type": "code",
      "metadata": {
        "id": "YY9EZjehB_7p",
        "colab_type": "code",
        "colab": {}
      },
      "source": [
        "while index_x<=len(X) and index_y<=len(Y):\n",
        "  x_temp=X[index_x_p:index_x]\n",
        "  y_temp=Y[index_y_p:index_y]\n",
        "  x_temp_1=np.array(x_temp,dtype='float32')\n",
        "  y_temp_1=np.array(y_temp,dtype='float32')\n",
        "  X_1.append(x_temp_1)\n",
        "  Y_1.append(y_temp_1)\n",
        "  index_y_p=index_y_p+length\n",
        "  index_x_p=index_x_p+length\n",
        "  index_x=index_x+length\n",
        "  index_y=index_y+length\n"
      ],
      "execution_count": 0,
      "outputs": []
    },
    {
      "cell_type": "code",
      "metadata": {
        "id": "YJYXFTFqCQeK",
        "colab_type": "code",
        "outputId": "46e95312-119a-4d22-cf4b-4ec95fd3ab19",
        "colab": {
          "base_uri": "https://localhost:8080/",
          "height": 34
        }
      },
      "source": [
        "print(len(X_1[0]))"
      ],
      "execution_count": 0,
      "outputs": [
        {
          "output_type": "stream",
          "text": [
            "8\n"
          ],
          "name": "stdout"
        }
      ]
    },
    {
      "cell_type": "code",
      "metadata": {
        "id": "CWbvac0bEv7m",
        "colab_type": "code",
        "outputId": "b6d8950c-c45d-40d4-ac41-39096bd831c0",
        "colab": {
          "base_uri": "https://localhost:8080/",
          "height": 34
        }
      },
      "source": [
        "print(len(Y_1[0]))"
      ],
      "execution_count": 0,
      "outputs": [
        {
          "output_type": "stream",
          "text": [
            "8\n"
          ],
          "name": "stdout"
        }
      ]
    },
    {
      "cell_type": "code",
      "metadata": {
        "id": "7n1sIu0zE4zv",
        "colab_type": "code",
        "colab": {}
      },
      "source": [
        "np.save(\"drive/My Drive/MS_data/train_X.npy\",X_1)\n",
        "np.save(\"drive/My Drive/MS_data/train_Y.npy\",Y_1)"
      ],
      "execution_count": 0,
      "outputs": []
    },
    {
      "cell_type": "code",
      "metadata": {
        "id": "AdM-wCZYF0I7",
        "colab_type": "code",
        "colab": {}
      },
      "source": [
        "Y_1[0]"
      ],
      "execution_count": 0,
      "outputs": []
    },
    {
      "cell_type": "code",
      "metadata": {
        "id": "gKpZV05AJMwa",
        "colab_type": "code",
        "colab": {}
      },
      "source": [
        "# -*- coding: utf-8 -*-\n",
        "\"\"\"\n",
        "Created on Fri Dec 13 18:56:04 2019\n",
        "\n",
        "@author: Krishna Chandra\n",
        "\"\"\"\n",
        "import tensorflow as tf\n",
        "import keras\n",
        "from keras.models import Model, load_model\n",
        "from keras.layers import Input ,BatchNormalization , Activation \n",
        "from keras.layers.convolutional import Conv3D, UpSampling3D\n",
        "from keras.layers.pooling import MaxPooling3D\n",
        "from keras.layers.merge import concatenate\n",
        "\n",
        "\n",
        "def Convolution(input_tensor,filters):\n",
        "    \n",
        "    x = Conv3D(filters=filters,kernel_size=(3, 3, 3),padding = 'same',strides=(1, 1, 1))(input_tensor)\n",
        "    x = BatchNormalization()(x)\n",
        "    x = Activation('relu')(x) \n",
        "    return x\n",
        "\n",
        "def model(input_shape):\n",
        "    \n",
        "    inputs = Input((input_shape))\n",
        "    \n",
        "    conv_1 = Convolution(inputs,32)\n",
        "    \n",
        "    maxp_1 = MaxPooling3D(pool_size = (2, 2, 2), strides = (2, 2, 2), padding = 'same') (conv_1)\n",
        "    \n",
        "    conv_2 = Convolution(maxp_1,64)\n",
        "    maxp_2 = MaxPooling3D(pool_size = (2, 2, 2), strides = (2, 2, 2), padding = 'same') (conv_2)\n",
        "    \n",
        "    conv_3 = Convolution(maxp_2,128)\n",
        "    \n",
        "    maxp_3 = MaxPooling3D(pool_size = (2, 2, 2), strides = (2, 2, 2), padding = 'same') (conv_3)\n",
        "    \n",
        "    conv_4 = Convolution(maxp_3,256)\n",
        "    maxp_4 = MaxPooling3D(pool_size = (2, 2, 2), strides = (2, 2, 2), padding = 'same') (conv_4)\n",
        "    \n",
        "    conv_5 = Convolution(maxp_4,256)\n",
        "   \n",
        "    upsample_6 = UpSampling3D((2, 2, 2)) (conv_5)\n",
        "\n",
        "    upsample_6 = concatenate([upsample_6, conv_4],axis=1)\n",
        "    \n",
        "    conv_6 = Convolution(upsample_6,128)\n",
        "    upsample_7 = UpSampling3D((2, 2, 2)) (conv_6)\n",
        "    \n",
        "    upsample_7 = concatenate([upsample_7, conv_3],axis=1)\n",
        "    \n",
        "    conv_7 = Convolution(upsample_7,64)\n",
        "    upsample_8 = UpSampling3D((2, 2, 2)) (conv_7)\n",
        "    \n",
        "    upsample_8 = concatenate([upsample_8, conv_2],axis=1)\n",
        "\n",
        "    conv_8 = Convolution(upsample_8,32)\n",
        "    upsample_9 = UpSampling3D((2, 2, 2)) (conv_8)\n",
        "    \n",
        "    upsample_9 = concatenate([upsample_9, conv_1],axis=1)\n",
        "    \n",
        "    conv_9 = Convolution(upsample_9,32)\n",
        "    outputs = Conv3D(1, (1, 1, 1), activation='sigmoid') (conv_9)\n",
        "    \n",
        "    model = Model(inputs=[inputs], outputs=[outputs]) \n",
        "    \n",
        "    return model\n",
        "\n"
      ],
      "execution_count": 0,
      "outputs": []
    },
    {
      "cell_type": "code",
      "metadata": {
        "id": "ifTECqUZJ1ve",
        "colab_type": "code",
        "outputId": "9b7943a7-73c9-489c-e3be-2d3c032974e5",
        "colab": {
          "base_uri": "https://localhost:8080/",
          "height": 97
        }
      },
      "source": [
        "\n",
        "from keras import backend as K\n",
        "import numpy as np\n",
        "import tensorflow as tf\n",
        "\n",
        "# Computing Dice_Coefficient\n",
        "def dice_coef(y_true, y_pred, smooth=1.0):\n",
        "    y_true_f = K.flatten(y_true)\n",
        "    y_pred_f = K.flatten(y_pred)\n",
        "    intersection = K.sum(y_true_f * y_pred_f)\n",
        "    return (2. * intersection + smooth) / (K.sum(y_true_f) + K.sum(y_pred_f) + smooth)\n",
        "\n",
        "# Computing Precision \n",
        "def precision(y_true, y_pred):\n",
        "        true_positives = K.sum(K.round(K.clip(y_true * y_pred, 0, 1)))\n",
        "        predicted_positives = K.sum(K.round(K.clip(y_pred, 0, 1)))\n",
        "        precision = true_positives / (predicted_positives + K.epsilon())\n",
        "        return precision\n",
        "\n",
        "# Computing Sensitivity      \n",
        "def sensitivity(y_true, y_pred):\n",
        "    true_positives = K.sum(K.round(K.clip(y_true * y_pred, 0, 1)))\n",
        "    possible_positives = K.sum(K.round(K.clip(y_true, 0, 1)))\n",
        "    return true_positives / (possible_positives + K.epsilon())\n",
        "\n",
        "# Computing Specificity\n",
        "def specificity(y_true, y_pred):\n",
        "    true_negatives = K.sum(K.round(K.clip((1-y_true) * (1-y_pred), 0, 1)))\n",
        "    possible_negatives = K.sum(K.round(K.clip(1-y_true, 0, 1)))\n",
        "    return true_negatives / (possible_negatives + K.epsilon())"
      ],
      "execution_count": 0,
      "outputs": [
        {
          "output_type": "stream",
          "text": [
            "Using TensorFlow backend.\n"
          ],
          "name": "stderr"
        },
        {
          "output_type": "display_data",
          "data": {
            "text/html": [
              "<p style=\"color: red;\">\n",
              "The default version of TensorFlow in Colab will switch to TensorFlow 2.x on the 27th of March, 2020.<br>\n",
              "We recommend you <a href=\"https://www.tensorflow.org/guide/migrate\" target=\"_blank\">upgrade</a> now\n",
              "or ensure your notebook will continue to use TensorFlow 1.x via the <code>%tensorflow_version 1.x</code> magic:\n",
              "<a href=\"https://colab.research.google.com/notebooks/tensorflow_version.ipynb\" target=\"_blank\">more info</a>.</p>\n"
            ],
            "text/plain": [
              "<IPython.core.display.HTML object>"
            ]
          },
          "metadata": {
            "tags": []
          }
        }
      ]
    },
    {
      "cell_type": "code",
      "metadata": {
        "id": "Q-0wUUKoJ5d7",
        "colab_type": "code",
        "outputId": "618bb137-00d7-4e6e-d03e-ab1d219351ac",
        "colab": {
          "base_uri": "https://localhost:8080/",
          "height": 1000
        }
      },
      "source": [
        "import numpy as np\n",
        "import matplotlib.pyplot as plt\n",
        "import tensorflow as tf\n",
        "from sklearn.model_selection import train_test_split\n",
        "\n",
        "#import keras\n",
        "from tensorflow.keras.models import Model, load_model\n",
        "from tensorflow.keras.layers import Input ,BatchNormalization , Activation \n",
        "from tensorflow.keras.layers import Conv3D, UpSampling3D\n",
        "from tensorflow.keras.layers import MaxPooling3D\n",
        "from tensorflow.keras.layers import concatenate\n",
        "from tensorflow.keras.callbacks import EarlyStopping, ModelCheckpoint\n",
        "from tensorflow.keras.optimizers import Adam\n",
        "from sklearn.model_selection import train_test_split\n",
        "\n",
        "X_train , X_test, Y_train, Y_test = train_test_split(X_1, Y_1, test_size=0.15, random_state=32)\n",
        "\n",
        "\n",
        "# Loding the modified U-net \n",
        "model = model(input_shape = (8,256,256,5))\n",
        "model.summary()\n",
        "\n",
        "checkpointer = ModelCheckpoint('Modified_UNet.h5', verbose=1)\n",
        "callback_list=[checkpointer]\n",
        "\n",
        "# Compiling the model\n",
        "k_adam=Adam(lr=0.001)\n",
        "model.compile(optimizer=k_adam, loss='binary_crossentropy', metrics=['accuracy',dice_coef,precision,sensitivity,specificity])\n",
        "# Fitting the model over the data\n",
        "history = model.fit(X_train,Y_train,batch_size=32,epochs=60,validation_split=0.20,verbose=1,initial_epoch=0,callbacks=callback_list)\n",
        "\n",
        "# Saving the model\n",
        "model.save('Modified_UNet.h5')\n",
        "history.history\n",
        "\n",
        "# Evaluating the model on the training and testing data \n",
        "model.evaluate(x=X_train, y=Y_train, batch_size=32 , verbose=1, sample_weight=None, steps=None)\n",
        "model.evaluate(x=X_test, y=Y_test, batch_size=32, verbose=1, sample_weight=None, steps=None)\n"
      ],
      "execution_count": 0,
      "outputs": [
        {
          "output_type": "stream",
          "text": [
            "Model: \"model_3\"\n",
            "__________________________________________________________________________________________________\n",
            "Layer (type)                    Output Shape         Param #     Connected to                     \n",
            "==================================================================================================\n",
            "input_12 (InputLayer)           [(None, 8, 256, 256, 0                                            \n",
            "__________________________________________________________________________________________________\n",
            "conv3d_59 (Conv3D)              (None, 8, 256, 256,  4352        input_12[0][0]                   \n",
            "__________________________________________________________________________________________________\n",
            "batch_normalization_55 (BatchNo (None, 8, 256, 256,  128         conv3d_59[0][0]                  \n",
            "__________________________________________________________________________________________________\n",
            "activation_55 (Activation)      (None, 8, 256, 256,  0           batch_normalization_55[0][0]     \n",
            "__________________________________________________________________________________________________\n",
            "max_pooling3d_32 (MaxPooling3D) (None, 4, 128, 128,  0           activation_55[0][0]              \n",
            "__________________________________________________________________________________________________\n",
            "conv3d_60 (Conv3D)              (None, 4, 128, 128,  55360       max_pooling3d_32[0][0]           \n",
            "__________________________________________________________________________________________________\n",
            "batch_normalization_56 (BatchNo (None, 4, 128, 128,  256         conv3d_60[0][0]                  \n",
            "__________________________________________________________________________________________________\n",
            "activation_56 (Activation)      (None, 4, 128, 128,  0           batch_normalization_56[0][0]     \n",
            "__________________________________________________________________________________________________\n",
            "max_pooling3d_33 (MaxPooling3D) (None, 2, 64, 64, 64 0           activation_56[0][0]              \n",
            "__________________________________________________________________________________________________\n",
            "conv3d_61 (Conv3D)              (None, 2, 64, 64, 12 221312      max_pooling3d_33[0][0]           \n",
            "__________________________________________________________________________________________________\n",
            "batch_normalization_57 (BatchNo (None, 2, 64, 64, 12 512         conv3d_61[0][0]                  \n",
            "__________________________________________________________________________________________________\n",
            "activation_57 (Activation)      (None, 2, 64, 64, 12 0           batch_normalization_57[0][0]     \n",
            "__________________________________________________________________________________________________\n",
            "max_pooling3d_34 (MaxPooling3D) (None, 1, 32, 32, 12 0           activation_57[0][0]              \n",
            "__________________________________________________________________________________________________\n",
            "conv3d_62 (Conv3D)              (None, 1, 32, 32, 25 884992      max_pooling3d_34[0][0]           \n",
            "__________________________________________________________________________________________________\n",
            "batch_normalization_58 (BatchNo (None, 1, 32, 32, 25 1024        conv3d_62[0][0]                  \n",
            "__________________________________________________________________________________________________\n",
            "activation_58 (Activation)      (None, 1, 32, 32, 25 0           batch_normalization_58[0][0]     \n",
            "__________________________________________________________________________________________________\n",
            "max_pooling3d_35 (MaxPooling3D) (None, 1, 16, 16, 25 0           activation_58[0][0]              \n",
            "__________________________________________________________________________________________________\n",
            "conv3d_63 (Conv3D)              (None, 1, 16, 16, 25 1769728     max_pooling3d_35[0][0]           \n",
            "__________________________________________________________________________________________________\n",
            "batch_normalization_59 (BatchNo (None, 1, 16, 16, 25 1024        conv3d_63[0][0]                  \n",
            "__________________________________________________________________________________________________\n",
            "activation_59 (Activation)      (None, 1, 16, 16, 25 0           batch_normalization_59[0][0]     \n",
            "__________________________________________________________________________________________________\n",
            "up_sampling3d_21 (UpSampling3D) (None, 2, 32, 32, 25 0           activation_59[0][0]              \n",
            "__________________________________________________________________________________________________\n",
            "concatenate_20 (Concatenate)    (None, 3, 32, 32, 25 0           up_sampling3d_21[0][0]           \n",
            "                                                                 activation_58[0][0]              \n",
            "__________________________________________________________________________________________________\n",
            "conv3d_64 (Conv3D)              (None, 3, 32, 32, 12 884864      concatenate_20[0][0]             \n",
            "__________________________________________________________________________________________________\n",
            "batch_normalization_60 (BatchNo (None, 3, 32, 32, 12 512         conv3d_64[0][0]                  \n",
            "__________________________________________________________________________________________________\n",
            "activation_60 (Activation)      (None, 3, 32, 32, 12 0           batch_normalization_60[0][0]     \n",
            "__________________________________________________________________________________________________\n",
            "up_sampling3d_22 (UpSampling3D) (None, 6, 64, 64, 12 0           activation_60[0][0]              \n",
            "__________________________________________________________________________________________________\n",
            "concatenate_21 (Concatenate)    (None, 8, 64, 64, 12 0           up_sampling3d_22[0][0]           \n",
            "                                                                 activation_57[0][0]              \n",
            "__________________________________________________________________________________________________\n",
            "conv3d_65 (Conv3D)              (None, 8, 64, 64, 64 221248      concatenate_21[0][0]             \n",
            "__________________________________________________________________________________________________\n",
            "batch_normalization_61 (BatchNo (None, 8, 64, 64, 64 256         conv3d_65[0][0]                  \n",
            "__________________________________________________________________________________________________\n",
            "activation_61 (Activation)      (None, 8, 64, 64, 64 0           batch_normalization_61[0][0]     \n",
            "__________________________________________________________________________________________________\n",
            "up_sampling3d_23 (UpSampling3D) (None, 16, 128, 128, 0           activation_61[0][0]              \n",
            "__________________________________________________________________________________________________\n",
            "concatenate_22 (Concatenate)    (None, 20, 128, 128, 0           up_sampling3d_23[0][0]           \n",
            "                                                                 activation_56[0][0]              \n",
            "__________________________________________________________________________________________________\n",
            "conv3d_66 (Conv3D)              (None, 20, 128, 128, 55328       concatenate_22[0][0]             \n",
            "__________________________________________________________________________________________________\n",
            "batch_normalization_62 (BatchNo (None, 20, 128, 128, 128         conv3d_66[0][0]                  \n",
            "__________________________________________________________________________________________________\n",
            "activation_62 (Activation)      (None, 20, 128, 128, 0           batch_normalization_62[0][0]     \n",
            "__________________________________________________________________________________________________\n",
            "up_sampling3d_24 (UpSampling3D) (None, 40, 256, 256, 0           activation_62[0][0]              \n",
            "__________________________________________________________________________________________________\n",
            "concatenate_23 (Concatenate)    (None, 48, 256, 256, 0           up_sampling3d_24[0][0]           \n",
            "                                                                 activation_55[0][0]              \n",
            "__________________________________________________________________________________________________\n",
            "conv3d_67 (Conv3D)              (None, 48, 256, 256, 27680       concatenate_23[0][0]             \n",
            "__________________________________________________________________________________________________\n",
            "batch_normalization_63 (BatchNo (None, 48, 256, 256, 128         conv3d_67[0][0]                  \n",
            "__________________________________________________________________________________________________\n",
            "activation_63 (Activation)      (None, 48, 256, 256, 0           batch_normalization_63[0][0]     \n",
            "__________________________________________________________________________________________________\n",
            "conv3d_68 (Conv3D)              (None, 48, 256, 256, 33          activation_63[0][0]              \n",
            "==================================================================================================\n",
            "Total params: 4,128,865\n",
            "Trainable params: 4,126,881\n",
            "Non-trainable params: 1,984\n",
            "__________________________________________________________________________________________________\n"
          ],
          "name": "stdout"
        },
        {
          "output_type": "error",
          "ename": "ValueError",
          "evalue": "ignored",
          "traceback": [
            "\u001b[0;31m---------------------------------------------------------------------------\u001b[0m",
            "\u001b[0;31mValueError\u001b[0m                                Traceback (most recent call last)",
            "\u001b[0;32m<ipython-input-82-01b6bc4eaa3c>\u001b[0m in \u001b[0;36m<module>\u001b[0;34m()\u001b[0m\n\u001b[1;32m     28\u001b[0m \u001b[0mmodel\u001b[0m\u001b[0;34m.\u001b[0m\u001b[0mcompile\u001b[0m\u001b[0;34m(\u001b[0m\u001b[0moptimizer\u001b[0m\u001b[0;34m=\u001b[0m\u001b[0mk_adam\u001b[0m\u001b[0;34m,\u001b[0m \u001b[0mloss\u001b[0m\u001b[0;34m=\u001b[0m\u001b[0;34m'binary_crossentropy'\u001b[0m\u001b[0;34m,\u001b[0m \u001b[0mmetrics\u001b[0m\u001b[0;34m=\u001b[0m\u001b[0;34m[\u001b[0m\u001b[0;34m'accuracy'\u001b[0m\u001b[0;34m,\u001b[0m\u001b[0mdice_coef\u001b[0m\u001b[0;34m,\u001b[0m\u001b[0mprecision\u001b[0m\u001b[0;34m,\u001b[0m\u001b[0msensitivity\u001b[0m\u001b[0;34m,\u001b[0m\u001b[0mspecificity\u001b[0m\u001b[0;34m]\u001b[0m\u001b[0;34m)\u001b[0m\u001b[0;34m\u001b[0m\u001b[0;34m\u001b[0m\u001b[0m\n\u001b[1;32m     29\u001b[0m \u001b[0;31m# Fitting the model over the data\u001b[0m\u001b[0;34m\u001b[0m\u001b[0;34m\u001b[0m\u001b[0;34m\u001b[0m\u001b[0m\n\u001b[0;32m---> 30\u001b[0;31m \u001b[0mhistory\u001b[0m \u001b[0;34m=\u001b[0m \u001b[0mmodel\u001b[0m\u001b[0;34m.\u001b[0m\u001b[0mfit\u001b[0m\u001b[0;34m(\u001b[0m\u001b[0mX_train\u001b[0m\u001b[0;34m,\u001b[0m\u001b[0mY_train\u001b[0m\u001b[0;34m,\u001b[0m\u001b[0mbatch_size\u001b[0m\u001b[0;34m=\u001b[0m\u001b[0;36m32\u001b[0m\u001b[0;34m,\u001b[0m\u001b[0mepochs\u001b[0m\u001b[0;34m=\u001b[0m\u001b[0;36m60\u001b[0m\u001b[0;34m,\u001b[0m\u001b[0mvalidation_split\u001b[0m\u001b[0;34m=\u001b[0m\u001b[0;36m0.20\u001b[0m\u001b[0;34m,\u001b[0m\u001b[0mverbose\u001b[0m\u001b[0;34m=\u001b[0m\u001b[0;36m1\u001b[0m\u001b[0;34m,\u001b[0m\u001b[0minitial_epoch\u001b[0m\u001b[0;34m=\u001b[0m\u001b[0;36m0\u001b[0m\u001b[0;34m,\u001b[0m\u001b[0mcallbacks\u001b[0m\u001b[0;34m=\u001b[0m\u001b[0mcallback_list\u001b[0m\u001b[0;34m)\u001b[0m\u001b[0;34m\u001b[0m\u001b[0;34m\u001b[0m\u001b[0m\n\u001b[0m\u001b[1;32m     31\u001b[0m \u001b[0;34m\u001b[0m\u001b[0m\n\u001b[1;32m     32\u001b[0m \u001b[0;31m# Saving the model\u001b[0m\u001b[0;34m\u001b[0m\u001b[0;34m\u001b[0m\u001b[0;34m\u001b[0m\u001b[0m\n",
            "\u001b[0;32m/tensorflow-1.15.2/python3.6/tensorflow_core/python/keras/engine/training.py\u001b[0m in \u001b[0;36mfit\u001b[0;34m(self, x, y, batch_size, epochs, verbose, callbacks, validation_split, validation_data, shuffle, class_weight, sample_weight, initial_epoch, steps_per_epoch, validation_steps, validation_freq, max_queue_size, workers, use_multiprocessing, **kwargs)\u001b[0m\n\u001b[1;32m    725\u001b[0m         \u001b[0mmax_queue_size\u001b[0m\u001b[0;34m=\u001b[0m\u001b[0mmax_queue_size\u001b[0m\u001b[0;34m,\u001b[0m\u001b[0;34m\u001b[0m\u001b[0;34m\u001b[0m\u001b[0m\n\u001b[1;32m    726\u001b[0m         \u001b[0mworkers\u001b[0m\u001b[0;34m=\u001b[0m\u001b[0mworkers\u001b[0m\u001b[0;34m,\u001b[0m\u001b[0;34m\u001b[0m\u001b[0;34m\u001b[0m\u001b[0m\n\u001b[0;32m--> 727\u001b[0;31m         use_multiprocessing=use_multiprocessing)\n\u001b[0m\u001b[1;32m    728\u001b[0m \u001b[0;34m\u001b[0m\u001b[0m\n\u001b[1;32m    729\u001b[0m   def evaluate(self,\n",
            "\u001b[0;32m/tensorflow-1.15.2/python3.6/tensorflow_core/python/keras/engine/training_arrays.py\u001b[0m in \u001b[0;36mfit\u001b[0;34m(self, model, x, y, batch_size, epochs, verbose, callbacks, validation_split, validation_data, shuffle, class_weight, sample_weight, initial_epoch, steps_per_epoch, validation_steps, validation_freq, **kwargs)\u001b[0m\n\u001b[1;32m    641\u001b[0m         \u001b[0msteps\u001b[0m\u001b[0;34m=\u001b[0m\u001b[0msteps_per_epoch\u001b[0m\u001b[0;34m,\u001b[0m\u001b[0;34m\u001b[0m\u001b[0;34m\u001b[0m\u001b[0m\n\u001b[1;32m    642\u001b[0m         \u001b[0mvalidation_split\u001b[0m\u001b[0;34m=\u001b[0m\u001b[0mvalidation_split\u001b[0m\u001b[0;34m,\u001b[0m\u001b[0;34m\u001b[0m\u001b[0;34m\u001b[0m\u001b[0m\n\u001b[0;32m--> 643\u001b[0;31m         shuffle=shuffle)\n\u001b[0m\u001b[1;32m    644\u001b[0m \u001b[0;34m\u001b[0m\u001b[0m\n\u001b[1;32m    645\u001b[0m     \u001b[0;32mif\u001b[0m \u001b[0mvalidation_data\u001b[0m\u001b[0;34m:\u001b[0m\u001b[0;34m\u001b[0m\u001b[0;34m\u001b[0m\u001b[0m\n",
            "\u001b[0;32m/tensorflow-1.15.2/python3.6/tensorflow_core/python/keras/engine/training.py\u001b[0m in \u001b[0;36m_standardize_user_data\u001b[0;34m(self, x, y, sample_weight, class_weight, batch_size, check_steps, steps_name, steps, validation_split, shuffle, extract_tensors_from_dataset)\u001b[0m\n\u001b[1;32m   2469\u001b[0m           \u001b[0mfeed_input_shapes\u001b[0m\u001b[0;34m,\u001b[0m\u001b[0;34m\u001b[0m\u001b[0;34m\u001b[0m\u001b[0m\n\u001b[1;32m   2470\u001b[0m           \u001b[0mcheck_batch_axis\u001b[0m\u001b[0;34m=\u001b[0m\u001b[0;32mFalse\u001b[0m\u001b[0;34m,\u001b[0m  \u001b[0;31m# Don't enforce the batch size.\u001b[0m\u001b[0;34m\u001b[0m\u001b[0;34m\u001b[0m\u001b[0m\n\u001b[0;32m-> 2471\u001b[0;31m           exception_prefix='input')\n\u001b[0m\u001b[1;32m   2472\u001b[0m \u001b[0;34m\u001b[0m\u001b[0m\n\u001b[1;32m   2473\u001b[0m     \u001b[0;31m# Get typespecs for the input data and sanitize it if necessary.\u001b[0m\u001b[0;34m\u001b[0m\u001b[0;34m\u001b[0m\u001b[0;34m\u001b[0m\u001b[0m\n",
            "\u001b[0;32m/tensorflow-1.15.2/python3.6/tensorflow_core/python/keras/engine/training_utils.py\u001b[0m in \u001b[0;36mstandardize_input_data\u001b[0;34m(data, names, shapes, check_batch_axis, exception_prefix)\u001b[0m\n\u001b[1;32m    561\u001b[0m                            \u001b[0;34m': expected '\u001b[0m \u001b[0;34m+\u001b[0m \u001b[0mnames\u001b[0m\u001b[0;34m[\u001b[0m\u001b[0mi\u001b[0m\u001b[0;34m]\u001b[0m \u001b[0;34m+\u001b[0m \u001b[0;34m' to have '\u001b[0m \u001b[0;34m+\u001b[0m\u001b[0;34m\u001b[0m\u001b[0;34m\u001b[0m\u001b[0m\n\u001b[1;32m    562\u001b[0m                            \u001b[0mstr\u001b[0m\u001b[0;34m(\u001b[0m\u001b[0mlen\u001b[0m\u001b[0;34m(\u001b[0m\u001b[0mshape\u001b[0m\u001b[0;34m)\u001b[0m\u001b[0;34m)\u001b[0m \u001b[0;34m+\u001b[0m \u001b[0;34m' dimensions, but got array '\u001b[0m\u001b[0;34m\u001b[0m\u001b[0;34m\u001b[0m\u001b[0m\n\u001b[0;32m--> 563\u001b[0;31m                            'with shape ' + str(data_shape))\n\u001b[0m\u001b[1;32m    564\u001b[0m         \u001b[0;32mif\u001b[0m \u001b[0;32mnot\u001b[0m \u001b[0mcheck_batch_axis\u001b[0m\u001b[0;34m:\u001b[0m\u001b[0;34m\u001b[0m\u001b[0;34m\u001b[0m\u001b[0m\n\u001b[1;32m    565\u001b[0m           \u001b[0mdata_shape\u001b[0m \u001b[0;34m=\u001b[0m \u001b[0mdata_shape\u001b[0m\u001b[0;34m[\u001b[0m\u001b[0;36m1\u001b[0m\u001b[0;34m:\u001b[0m\u001b[0;34m]\u001b[0m\u001b[0;34m\u001b[0m\u001b[0;34m\u001b[0m\u001b[0m\n",
            "\u001b[0;31mValueError\u001b[0m: Error when checking input: expected input_12 to have 5 dimensions, but got array with shape (8, 256, 256, 5)"
          ]
        }
      ]
    },
    {
      "cell_type": "code",
      "metadata": {
        "id": "w3XRjWrMTdKF",
        "colab_type": "code",
        "colab": {}
      },
      "source": [
        "print(X_train[0].shape)"
      ],
      "execution_count": 0,
      "outputs": []
    }
  ]
}